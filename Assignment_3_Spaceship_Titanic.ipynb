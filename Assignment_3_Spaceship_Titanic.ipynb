{
  "cells": [
    {
      "cell_type": "markdown",
      "metadata": {
        "id": "view-in-github",
        "colab_type": "text"
      },
      "source": [
        "<a href=\"https://colab.research.google.com/github/lucdekeijzer/Assignment_3_Spaceship_Titanic/blob/main/Assignment_3_Spaceship_Titanic.ipynb\" target=\"_parent\"><img src=\"https://colab.research.google.com/assets/colab-badge.svg\" alt=\"Open In Colab\"/></a>"
      ]
    },
    {
      "cell_type": "code",
      "source": [
        "from google.colab import userdata\n",
        "import os\n",
        "\n",
        "os.environ[\"KAGGLE_KEY\"] = userdata.get('KAGGLE_KEY')\n",
        "os.environ[\"KAGGLE_USERNAME\"] = userdata.get('KAGGLE_USERNAME')\n",
        "!kaggle competitions download -c spaceship-titanic\n",
        "! unzip \"spaceship-titanic.zip\""
      ],
      "metadata": {
        "id": "YNMFHnBQjv2Y",
        "outputId": "4c71cf93-a48b-49c5-d479-13d7d7e334d4",
        "colab": {
          "base_uri": "https://localhost:8080/"
        }
      },
      "execution_count": 9,
      "outputs": [
        {
          "output_type": "stream",
          "name": "stdout",
          "text": [
            "Downloading spaceship-titanic.zip to /content\n",
            "\r  0% 0.00/299k [00:00<?, ?B/s]\n",
            "\r100% 299k/299k [00:00<00:00, 73.0MB/s]\n"
          ]
        }
      ]
    },
    {
      "cell_type": "code",
      "execution_count": 12,
      "metadata": {
        "colab": {
          "base_uri": "https://localhost:8080/"
        },
        "id": "HjadEwb0iwpH",
        "outputId": "ddb6f65c-8e1d-4da4-a4b9-2f3d85c6df4b"
      },
      "outputs": [
        {
          "output_type": "stream",
          "name": "stdout",
          "text": [
            "     PassengerId HomePlanet CryoSleep     Cabin    Destination   Age    VIP  \\\n",
            "0        0001_01     Europa     False     B/0/P    TRAPPIST-1e  39.0  False   \n",
            "1        0002_01      Earth     False     F/0/S    TRAPPIST-1e  24.0  False   \n",
            "2        0003_01     Europa     False     A/0/S    TRAPPIST-1e  58.0   True   \n",
            "3        0003_02     Europa     False     A/0/S    TRAPPIST-1e  33.0  False   \n",
            "4        0004_01      Earth     False     F/1/S    TRAPPIST-1e  16.0  False   \n",
            "...          ...        ...       ...       ...            ...   ...    ...   \n",
            "8688     9276_01     Europa     False    A/98/P    55 Cancri e  41.0   True   \n",
            "8689     9278_01      Earth      True  G/1499/S  PSO J318.5-22  18.0  False   \n",
            "8690     9279_01      Earth     False  G/1500/S    TRAPPIST-1e  26.0  False   \n",
            "8691     9280_01     Europa     False   E/608/S    55 Cancri e  32.0  False   \n",
            "8692     9280_02     Europa     False   E/608/S    TRAPPIST-1e  44.0  False   \n",
            "\n",
            "      RoomService  FoodCourt  ShoppingMall     Spa  VRDeck               Name  \\\n",
            "0             0.0        0.0           0.0     0.0     0.0    Maham Ofracculy   \n",
            "1           109.0        9.0          25.0   549.0    44.0       Juanna Vines   \n",
            "2            43.0     3576.0           0.0  6715.0    49.0      Altark Susent   \n",
            "3             0.0     1283.0         371.0  3329.0   193.0       Solam Susent   \n",
            "4           303.0       70.0         151.0   565.0     2.0  Willy Santantines   \n",
            "...           ...        ...           ...     ...     ...                ...   \n",
            "8688          0.0     6819.0           0.0  1643.0    74.0  Gravior Noxnuther   \n",
            "8689          0.0        0.0           0.0     0.0     0.0    Kurta Mondalley   \n",
            "8690          0.0        0.0        1872.0     1.0     0.0       Fayey Connon   \n",
            "8691          0.0     1049.0           0.0   353.0  3235.0   Celeon Hontichre   \n",
            "8692        126.0     4688.0           0.0     0.0    12.0   Propsh Hontichre   \n",
            "\n",
            "      Transported  \n",
            "0           False  \n",
            "1            True  \n",
            "2           False  \n",
            "3           False  \n",
            "4            True  \n",
            "...           ...  \n",
            "8688        False  \n",
            "8689        False  \n",
            "8690         True  \n",
            "8691        False  \n",
            "8692         True  \n",
            "\n",
            "[8693 rows x 14 columns]\n"
          ]
        }
      ],
      "source": [
        "import pandas as pd\n",
        "train_data_df = pd.read_csv(\"train.csv\")\n",
        "test_data_df = pd.read_csv(\"test.csv\")\n",
        "print(train_data_df)"
      ]
    },
    {
      "cell_type": "code",
      "source": [
        "print(train_data_df[0:1])"
      ],
      "metadata": {
        "id": "XPFAyvCtlEt4",
        "outputId": "fb5c17c6-8ac8-4402-92d9-c4bab3827ace",
        "colab": {
          "base_uri": "https://localhost:8080/"
        }
      },
      "execution_count": 16,
      "outputs": [
        {
          "output_type": "stream",
          "name": "stdout",
          "text": [
            "  PassengerId HomePlanet CryoSleep  Cabin  Destination   Age    VIP  \\\n",
            "0     0001_01     Europa     False  B/0/P  TRAPPIST-1e  39.0  False   \n",
            "\n",
            "   RoomService  FoodCourt  ShoppingMall  Spa  VRDeck             Name  \\\n",
            "0          0.0        0.0           0.0  0.0     0.0  Maham Ofracculy   \n",
            "\n",
            "   Transported  \n",
            "0        False  \n"
          ]
        }
      ]
    },
    {
      "cell_type": "code",
      "execution_count": 17,
      "metadata": {
        "colab": {
          "base_uri": "https://localhost:8080/"
        },
        "id": "Wzo3zse-oc7M",
        "outputId": "c54934e3-345f-4ce6-a48a-78830979991c"
      },
      "outputs": [
        {
          "output_type": "execute_result",
          "data": {
            "text/plain": [
              "PassengerId       0\n",
              "HomePlanet      201\n",
              "CryoSleep       217\n",
              "Cabin           199\n",
              "Destination     182\n",
              "Age             179\n",
              "VIP             203\n",
              "RoomService     181\n",
              "FoodCourt       183\n",
              "ShoppingMall    208\n",
              "Spa             183\n",
              "VRDeck          188\n",
              "Name            200\n",
              "Transported       0\n",
              "dtype: int64"
            ]
          },
          "metadata": {},
          "execution_count": 17
        }
      ],
      "source": [
        "train_data_df.isna().sum()"
      ]
    },
    {
      "cell_type": "code",
      "execution_count": null,
      "metadata": {
        "colab": {
          "base_uri": "https://localhost:8080/"
        },
        "id": "r8JrjakFpimS",
        "outputId": "5c4a7847-5719-4dfb-b6dd-810cc2cfa62a"
      },
      "outputs": [
        {
          "output_type": "stream",
          "name": "stdout",
          "text": [
            "8693\n",
            "8693\n"
          ]
        }
      ],
      "source": [
        "print(len(train_data_df))\n",
        "train_data_df_filled_na = train_data_df.fillna(method = \"ffill\")\n",
        "print(len(train_data_df))"
      ]
    },
    {
      "cell_type": "code",
      "execution_count": null,
      "metadata": {
        "colab": {
          "base_uri": "https://localhost:8080/"
        },
        "id": "gySVAlc5qJup",
        "outputId": "30cde129-d552-45d1-d6c8-3378cc275fd9"
      },
      "outputs": [
        {
          "output_type": "execute_result",
          "data": {
            "text/plain": [
              "PassengerId       0\n",
              "HomePlanet      201\n",
              "CryoSleep       217\n",
              "Cabin           199\n",
              "Destination     182\n",
              "Age             179\n",
              "VIP             203\n",
              "RoomService     181\n",
              "FoodCourt       183\n",
              "ShoppingMall    208\n",
              "Spa             183\n",
              "VRDeck          188\n",
              "Name            200\n",
              "Transported       0\n",
              "dtype: int64"
            ]
          },
          "metadata": {},
          "execution_count": 30
        }
      ],
      "source": [
        "train_data_df.isna().sum()"
      ]
    },
    {
      "cell_type": "code",
      "execution_count": null,
      "metadata": {
        "colab": {
          "base_uri": "https://localhost:8080/"
        },
        "id": "vthmW0o5wYk2",
        "outputId": "e5f40a6e-5ee3-4337-cc89-d5c244a2d226"
      },
      "outputs": [
        {
          "output_type": "stream",
          "name": "stdout",
          "text": [
            "PassengerId      object\n",
            "HomePlanet       object\n",
            "CryoSleep          bool\n",
            "Cabin            object\n",
            "Destination      object\n",
            "Age             float64\n",
            "VIP                bool\n",
            "RoomService     float64\n",
            "FoodCourt       float64\n",
            "ShoppingMall    float64\n",
            "Spa             float64\n",
            "VRDeck          float64\n",
            "Name             object\n",
            "Transported        bool\n",
            "dtype: object\n"
          ]
        }
      ],
      "source": [
        "print(train_data_df_filled_na.dtypes)"
      ]
    },
    {
      "cell_type": "code",
      "execution_count": null,
      "metadata": {
        "id": "R3ffg11ojc4b"
      },
      "outputs": [],
      "source": [
        "len(train_data_df_filled_na)\n",
        "\n",
        "X = train_data_df_filled_na.loc[:, train_data_df.columns != 'Transported']\n",
        "y = train_data_df_filled_na['Transported']\n"
      ]
    },
    {
      "cell_type": "code",
      "execution_count": null,
      "metadata": {
        "colab": {
          "base_uri": "https://localhost:8080/"
        },
        "id": "3fgjZGWE_Z27",
        "outputId": "dfa9f737-81d1-46ec-cb5f-2e3ebdb697c6"
      },
      "outputs": [
        {
          "output_type": "stream",
          "name": "stdout",
          "text": [
            "      PassengerId  HomePlanet  CryoSleep  Cabin  Destination   Age    VIP  \\\n",
            "0               0           1      False    149            2  39.0  False   \n",
            "1               1           0      False   2184            2  24.0  False   \n",
            "2               2           1      False      1            2  58.0   True   \n",
            "3               3           1      False      1            2  33.0  False   \n",
            "4               4           0      False   2186            2  16.0  False   \n",
            "...           ...         ...        ...    ...          ...   ...    ...   \n",
            "8688         8688           1      False    146            0  41.0   True   \n",
            "8689         8689           0       True   5280            1  18.0  False   \n",
            "8690         8690           0      False   5285            2  26.0  False   \n",
            "8691         8691           1      False   2131            0  32.0  False   \n",
            "8692         8692           1      False   2131            2  44.0  False   \n",
            "\n",
            "      RoomService  FoodCourt  ShoppingMall     Spa  VRDeck  Name  \n",
            "0             0.0        0.0           0.0     0.0     0.0  5252  \n",
            "1           109.0        9.0          25.0   549.0    44.0  4502  \n",
            "2            43.0     3576.0           0.0  6715.0    49.0   457  \n",
            "3             0.0     1283.0         371.0  3329.0   193.0  7149  \n",
            "4           303.0       70.0         151.0   565.0     2.0  8319  \n",
            "...           ...        ...           ...     ...     ...   ...  \n",
            "8688          0.0     6819.0           0.0  1643.0    74.0  3524  \n",
            "8689          0.0        0.0           0.0     0.0     0.0  4780  \n",
            "8690          0.0        0.0        1872.0     1.0     0.0  3002  \n",
            "8691          0.0     1049.0           0.0   353.0  3235.0  1596  \n",
            "8692        126.0     4688.0           0.0     0.0    12.0  6380  \n",
            "\n",
            "[8693 rows x 13 columns]\n"
          ]
        },
        {
          "output_type": "stream",
          "name": "stderr",
          "text": [
            "<ipython-input-33-0c7824e23c65>:5: SettingWithCopyWarning: \n",
            "A value is trying to be set on a copy of a slice from a DataFrame.\n",
            "Try using .loc[row_indexer,col_indexer] = value instead\n",
            "\n",
            "See the caveats in the documentation: https://pandas.pydata.org/pandas-docs/stable/user_guide/indexing.html#returning-a-view-versus-a-copy\n",
            "  X['PassengerId'] = label_encoder.fit_transform(X['PassengerId'])\n",
            "<ipython-input-33-0c7824e23c65>:6: SettingWithCopyWarning: \n",
            "A value is trying to be set on a copy of a slice from a DataFrame.\n",
            "Try using .loc[row_indexer,col_indexer] = value instead\n",
            "\n",
            "See the caveats in the documentation: https://pandas.pydata.org/pandas-docs/stable/user_guide/indexing.html#returning-a-view-versus-a-copy\n",
            "  X[\"HomePlanet\"] = label_encoder.fit_transform(X[\"HomePlanet\"])\n",
            "<ipython-input-33-0c7824e23c65>:7: SettingWithCopyWarning: \n",
            "A value is trying to be set on a copy of a slice from a DataFrame.\n",
            "Try using .loc[row_indexer,col_indexer] = value instead\n",
            "\n",
            "See the caveats in the documentation: https://pandas.pydata.org/pandas-docs/stable/user_guide/indexing.html#returning-a-view-versus-a-copy\n",
            "  X['Destination'] = label_encoder.fit_transform(X['Destination'])\n",
            "<ipython-input-33-0c7824e23c65>:8: SettingWithCopyWarning: \n",
            "A value is trying to be set on a copy of a slice from a DataFrame.\n",
            "Try using .loc[row_indexer,col_indexer] = value instead\n",
            "\n",
            "See the caveats in the documentation: https://pandas.pydata.org/pandas-docs/stable/user_guide/indexing.html#returning-a-view-versus-a-copy\n",
            "  X['Cabin'] = label_encoder.fit_transform(X['Cabin'])\n",
            "<ipython-input-33-0c7824e23c65>:9: SettingWithCopyWarning: \n",
            "A value is trying to be set on a copy of a slice from a DataFrame.\n",
            "Try using .loc[row_indexer,col_indexer] = value instead\n",
            "\n",
            "See the caveats in the documentation: https://pandas.pydata.org/pandas-docs/stable/user_guide/indexing.html#returning-a-view-versus-a-copy\n",
            "  X['Name'] = label_encoder.fit_transform(X['Name'])\n"
          ]
        }
      ],
      "source": [
        "# Encoding\n",
        "from sklearn.preprocessing import LabelEncoder\n",
        "\n",
        "label_encoder = LabelEncoder()\n",
        "X['PassengerId'] = label_encoder.fit_transform(X['PassengerId'])\n",
        "X[\"HomePlanet\"] = label_encoder.fit_transform(X[\"HomePlanet\"])\n",
        "X['Destination'] = label_encoder.fit_transform(X['Destination'])\n",
        "X['Cabin'] = label_encoder.fit_transform(X['Cabin'])\n",
        "X['Name'] = label_encoder.fit_transform(X['Name'])\n",
        "print(X)"
      ]
    },
    {
      "cell_type": "code",
      "execution_count": null,
      "metadata": {
        "colab": {
          "base_uri": "https://localhost:8080/"
        },
        "id": "U6CNLqSHFYu6",
        "outputId": "5bbc7967-1578-4e3e-a111-62c46fac60bd"
      },
      "outputs": [
        {
          "output_type": "stream",
          "name": "stdout",
          "text": [
            "PassengerId       int64\n",
            "HomePlanet        int64\n",
            "CryoSleep          bool\n",
            "Cabin             int64\n",
            "Destination       int64\n",
            "Age             float64\n",
            "VIP                bool\n",
            "RoomService     float64\n",
            "FoodCourt       float64\n",
            "ShoppingMall    float64\n",
            "Spa             float64\n",
            "VRDeck          float64\n",
            "Name              int64\n",
            "dtype: object\n"
          ]
        }
      ],
      "source": [
        "print(X.dtypes)"
      ]
    },
    {
      "cell_type": "code",
      "execution_count": null,
      "metadata": {
        "id": "Enqems_WmGgb"
      },
      "outputs": [],
      "source": [
        "from sklearn.model_selection import train_test_split, GridSearchCV\n",
        "\n",
        "X_train, X_val, y_train, y_val = train_test_split(X, y, test_size=.3)"
      ]
    },
    {
      "cell_type": "code",
      "execution_count": null,
      "metadata": {
        "colab": {
          "base_uri": "https://localhost:8080/"
        },
        "id": "ODOq5UWSFr2a",
        "outputId": "80c74761-2bf3-4d7f-d9b3-03535dbfa328"
      },
      "outputs": [
        {
          "output_type": "stream",
          "name": "stdout",
          "text": [
            "(6085,)\n"
          ]
        }
      ],
      "source": [
        "from sklearn.preprocessing import MinMaxScaler, StandardScaler\n",
        "\n",
        "print(X_train[\"RoomService\"].shape)\n",
        "\n",
        "\n",
        "# Initialize StandardScaler\n",
        "scaler = StandardScaler()\n",
        "\n",
        "# Fit scaler to the entire training dataset\n",
        "scaler.fit(X_train[[\"RoomService\", \"FoodCourt\", \"ShoppingMall\", \"Spa\", \"VRDeck\"]])\n",
        "\n",
        "# Transform the specified columns individually\n",
        "columns_to_transform = [\"RoomService\", \"FoodCourt\", \"ShoppingMall\", \"Spa\", \"VRDeck\"]\n",
        "\n",
        "# Transform both Train and Validation data\n",
        "X_train[columns_to_transform] = scaler.transform(X_train[columns_to_transform])\n",
        "X_val[columns_to_transform] = scaler.transform(X_val[columns_to_transform])\n"
      ]
    },
    {
      "cell_type": "code",
      "execution_count": null,
      "metadata": {
        "colab": {
          "base_uri": "https://localhost:8080/",
          "height": 74
        },
        "id": "LcGh448uRAv8",
        "outputId": "de2c81fc-0efd-433e-a55f-94882cbab331"
      },
      "outputs": [
        {
          "output_type": "execute_result",
          "data": {
            "text/plain": [
              "SVC()"
            ],
            "text/html": [
              "<style>#sk-container-id-8 {color: black;background-color: white;}#sk-container-id-8 pre{padding: 0;}#sk-container-id-8 div.sk-toggleable {background-color: white;}#sk-container-id-8 label.sk-toggleable__label {cursor: pointer;display: block;width: 100%;margin-bottom: 0;padding: 0.3em;box-sizing: border-box;text-align: center;}#sk-container-id-8 label.sk-toggleable__label-arrow:before {content: \"▸\";float: left;margin-right: 0.25em;color: #696969;}#sk-container-id-8 label.sk-toggleable__label-arrow:hover:before {color: black;}#sk-container-id-8 div.sk-estimator:hover label.sk-toggleable__label-arrow:before {color: black;}#sk-container-id-8 div.sk-toggleable__content {max-height: 0;max-width: 0;overflow: hidden;text-align: left;background-color: #f0f8ff;}#sk-container-id-8 div.sk-toggleable__content pre {margin: 0.2em;color: black;border-radius: 0.25em;background-color: #f0f8ff;}#sk-container-id-8 input.sk-toggleable__control:checked~div.sk-toggleable__content {max-height: 200px;max-width: 100%;overflow: auto;}#sk-container-id-8 input.sk-toggleable__control:checked~label.sk-toggleable__label-arrow:before {content: \"▾\";}#sk-container-id-8 div.sk-estimator input.sk-toggleable__control:checked~label.sk-toggleable__label {background-color: #d4ebff;}#sk-container-id-8 div.sk-label input.sk-toggleable__control:checked~label.sk-toggleable__label {background-color: #d4ebff;}#sk-container-id-8 input.sk-hidden--visually {border: 0;clip: rect(1px 1px 1px 1px);clip: rect(1px, 1px, 1px, 1px);height: 1px;margin: -1px;overflow: hidden;padding: 0;position: absolute;width: 1px;}#sk-container-id-8 div.sk-estimator {font-family: monospace;background-color: #f0f8ff;border: 1px dotted black;border-radius: 0.25em;box-sizing: border-box;margin-bottom: 0.5em;}#sk-container-id-8 div.sk-estimator:hover {background-color: #d4ebff;}#sk-container-id-8 div.sk-parallel-item::after {content: \"\";width: 100%;border-bottom: 1px solid gray;flex-grow: 1;}#sk-container-id-8 div.sk-label:hover label.sk-toggleable__label {background-color: #d4ebff;}#sk-container-id-8 div.sk-serial::before {content: \"\";position: absolute;border-left: 1px solid gray;box-sizing: border-box;top: 0;bottom: 0;left: 50%;z-index: 0;}#sk-container-id-8 div.sk-serial {display: flex;flex-direction: column;align-items: center;background-color: white;padding-right: 0.2em;padding-left: 0.2em;position: relative;}#sk-container-id-8 div.sk-item {position: relative;z-index: 1;}#sk-container-id-8 div.sk-parallel {display: flex;align-items: stretch;justify-content: center;background-color: white;position: relative;}#sk-container-id-8 div.sk-item::before, #sk-container-id-8 div.sk-parallel-item::before {content: \"\";position: absolute;border-left: 1px solid gray;box-sizing: border-box;top: 0;bottom: 0;left: 50%;z-index: -1;}#sk-container-id-8 div.sk-parallel-item {display: flex;flex-direction: column;z-index: 1;position: relative;background-color: white;}#sk-container-id-8 div.sk-parallel-item:first-child::after {align-self: flex-end;width: 50%;}#sk-container-id-8 div.sk-parallel-item:last-child::after {align-self: flex-start;width: 50%;}#sk-container-id-8 div.sk-parallel-item:only-child::after {width: 0;}#sk-container-id-8 div.sk-dashed-wrapped {border: 1px dashed gray;margin: 0 0.4em 0.5em 0.4em;box-sizing: border-box;padding-bottom: 0.4em;background-color: white;}#sk-container-id-8 div.sk-label label {font-family: monospace;font-weight: bold;display: inline-block;line-height: 1.2em;}#sk-container-id-8 div.sk-label-container {text-align: center;}#sk-container-id-8 div.sk-container {/* jupyter's `normalize.less` sets `[hidden] { display: none; }` but bootstrap.min.css set `[hidden] { display: none !important; }` so we also need the `!important` here to be able to override the default hidden behavior on the sphinx rendered scikit-learn.org. See: https://github.com/scikit-learn/scikit-learn/issues/21755 */display: inline-block !important;position: relative;}#sk-container-id-8 div.sk-text-repr-fallback {display: none;}</style><div id=\"sk-container-id-8\" class=\"sk-top-container\"><div class=\"sk-text-repr-fallback\"><pre>SVC()</pre><b>In a Jupyter environment, please rerun this cell to show the HTML representation or trust the notebook. <br />On GitHub, the HTML representation is unable to render, please try loading this page with nbviewer.org.</b></div><div class=\"sk-container\" hidden><div class=\"sk-item\"><div class=\"sk-estimator sk-toggleable\"><input class=\"sk-toggleable__control sk-hidden--visually\" id=\"sk-estimator-id-8\" type=\"checkbox\" checked><label for=\"sk-estimator-id-8\" class=\"sk-toggleable__label sk-toggleable__label-arrow\">SVC</label><div class=\"sk-toggleable__content\"><pre>SVC()</pre></div></div></div></div></div>"
            ]
          },
          "metadata": {},
          "execution_count": 48
        }
      ],
      "source": [
        "# Perform PCA\n",
        "\n",
        "from sklearn.decomposition import PCA\n",
        "from sklearn.pipeline import Pipeline\n",
        "from sklearn.linear_model import LogisticRegression\n",
        "from sklearn.svm import SVC\n",
        "\n",
        "# pca = PCA()  # initializing the pca\n",
        "# pca.set_params(n_components = .99)    # configure the number of components\n",
        "# X_train = pca.fit_transform(X_train)\n",
        "# X_val = pca.transform(X_val)\n",
        "\n",
        "# classifier = SVC()\n",
        "\n",
        "# classifier.fit(X_train, y_train)\n",
        "\n",
        "# Define the parameter grid to search\n",
        "param_grid = {\n",
        "    'C': [0.1, 1, 10],\n",
        "    'kernel': ['linear', 'rbf', 'poly'],\n",
        "    'gamma': ['scale', 'auto']\n",
        "}\n",
        "\n",
        "# Initialize SVC\n",
        "svc = SVC()\n",
        "\n",
        "svc.fit(X_train, y_train)\n",
        "\n",
        "\n",
        "# Initialize GridSearchCV\n",
        "# grid_search = GridSearchCV(estimator=svc, param_grid=param_grid, cv=3)\n",
        "\n",
        "# # Perform grid search on training data\n",
        "# grid_search.fit(X_train[:50], y_train[:50])\n",
        "\n",
        "# # Print best parameters and best score\n",
        "# print(\"Best Parameters:\", grid_search.best_params_)\n",
        "# print(\"Best Score:\", grid_search.best_score_)\n"
      ]
    },
    {
      "cell_type": "code",
      "source": [
        "print(svc.score(X_train, y_train))\n",
        "print(svc.score(X_val, y_val))"
      ],
      "metadata": {
        "colab": {
          "base_uri": "https://localhost:8080/"
        },
        "id": "W7EdQ3Ahbu6G",
        "outputId": "5ff02100-c01e-4f12-ffaa-b69cae3704f3"
      },
      "execution_count": null,
      "outputs": [
        {
          "output_type": "stream",
          "name": "stdout",
          "text": [
            "0.5991783073130649\n",
            "0.593941717791411\n"
          ]
        }
      ]
    },
    {
      "cell_type": "code",
      "execution_count": null,
      "metadata": {
        "id": "OoapzNmIKlVG",
        "colab": {
          "base_uri": "https://localhost:8080/",
          "height": 158
        },
        "outputId": "7b07e9b0-15a4-472c-b3c3-ad5dd8a2e5a2"
      },
      "outputs": [
        {
          "output_type": "error",
          "ename": "NameError",
          "evalue": "name 'classifier' is not defined",
          "traceback": [
            "\u001b[0;31m---------------------------------------------------------------------------\u001b[0m",
            "\u001b[0;31mNameError\u001b[0m                                 Traceback (most recent call last)",
            "\u001b[0;32m<ipython-input-39-e11b095e903a>\u001b[0m in \u001b[0;36m<cell line: 1>\u001b[0;34m()\u001b[0m\n\u001b[0;32m----> 1\u001b[0;31m \u001b[0mprint\u001b[0m\u001b[0;34m(\u001b[0m\u001b[0mclassifier\u001b[0m\u001b[0;34m.\u001b[0m\u001b[0mscore\u001b[0m\u001b[0;34m(\u001b[0m\u001b[0mX_train\u001b[0m\u001b[0;34m,\u001b[0m \u001b[0my_train\u001b[0m\u001b[0;34m)\u001b[0m\u001b[0;34m)\u001b[0m\u001b[0;34m\u001b[0m\u001b[0;34m\u001b[0m\u001b[0m\n\u001b[0m\u001b[1;32m      2\u001b[0m \u001b[0mprint\u001b[0m\u001b[0;34m(\u001b[0m\u001b[0mclassifier\u001b[0m\u001b[0;34m.\u001b[0m\u001b[0mscore\u001b[0m\u001b[0;34m(\u001b[0m\u001b[0mX_val\u001b[0m\u001b[0;34m,\u001b[0m \u001b[0my_val\u001b[0m\u001b[0;34m)\u001b[0m\u001b[0;34m)\u001b[0m\u001b[0;34m\u001b[0m\u001b[0;34m\u001b[0m\u001b[0m\n",
            "\u001b[0;31mNameError\u001b[0m: name 'classifier' is not defined"
          ]
        }
      ],
      "source": [
        "print(classifier.score(X_train, y_train))\n",
        "print(classifier.score(X_val, y_val))"
      ]
    }
  ],
  "metadata": {
    "colab": {
      "provenance": [],
      "include_colab_link": true
    },
    "kernelspec": {
      "display_name": "Python 3",
      "name": "python3"
    },
    "language_info": {
      "name": "python"
    }
  },
  "nbformat": 4,
  "nbformat_minor": 0
}