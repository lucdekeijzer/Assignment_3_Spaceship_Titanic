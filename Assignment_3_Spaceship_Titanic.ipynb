{
  "cells": [
    {
      "cell_type": "markdown",
      "metadata": {
        "id": "view-in-github",
        "colab_type": "text"
      },
      "source": [
        "<a href=\"https://colab.research.google.com/github/lucdekeijzer/Assignment_3_Spaceship_Titanic/blob/main/Assignment_3_Spaceship_Titanic.ipynb\" target=\"_parent\"><img src=\"https://colab.research.google.com/assets/colab-badge.svg\" alt=\"Open In Colab\"/></a>"
      ]
    },
    {
      "cell_type": "code",
      "source": [
        "from google.colab import userdata\n",
        "import os\n",
        "\n",
        "os.environ[\"KAGGLE_KEY\"] = userdata.get('KAGGLE_KEY')\n",
        "os.environ[\"KAGGLE_USERNAME\"] = userdata.get('KAGGLE_USERNAME')"
      ],
      "metadata": {
        "id": "KzW86UsUjzqA"
      },
      "execution_count": 2,
      "outputs": []
    },
    {
      "cell_type": "code",
      "source": [
        "dataset = 'spaceship-titanic'\n",
        "\n",
        "!kaggle competitions download -c $dataset\n",
        "\n",
        "zip_file = f\"{dataset}.zip\"\n",
        "destination_dir = f\"/content/{dataset}\"\n",
        "\n",
        "if not os.path.exists(zip_file):\n",
        "    print(f\"Error: {zip_file} not found.\")\n",
        "else:\n",
        "    !unzip -q $zip_file -d $destination_dir\n",
        "    !rm $zip_file"
      ],
      "metadata": {
        "colab": {
          "base_uri": "https://localhost:8080/"
        },
        "id": "iBzz141kkVgR",
        "outputId": "028ce9df-2bcb-4f27-f5d7-021fa80db83e"
      },
      "execution_count": 3,
      "outputs": [
        {
          "output_type": "stream",
          "name": "stdout",
          "text": [
            "Downloading spaceship-titanic.zip to /content\n",
            "\r  0% 0.00/299k [00:00<?, ?B/s]\n",
            "\r100% 299k/299k [00:00<00:00, 49.4MB/s]\n"
          ]
        }
      ]
    },
    {
      "cell_type": "code",
      "source": [
        "# used for debugging\n",
        "!pip install -Uqq ipdb\n",
        "import ipdb\n",
        "%pdb on\n",
        "#ipdb.set_trace()"
      ],
      "metadata": {
        "id": "CJGbgEtk_9rv",
        "outputId": "9d33ba23-6a95-4295-926d-9e94c503785a",
        "colab": {
          "base_uri": "https://localhost:8080/"
        }
      },
      "execution_count": 4,
      "outputs": [
        {
          "output_type": "stream",
          "name": "stdout",
          "text": [
            "\u001b[?25l     \u001b[90m━━━━━━━━━━━━━━━━━━━━━━━━━━━━━━━━━━━━━━━━\u001b[0m \u001b[32m0.0/1.6 MB\u001b[0m \u001b[31m?\u001b[0m eta \u001b[36m-:--:--\u001b[0m\r\u001b[2K     \u001b[91m━━\u001b[0m\u001b[90m╺\u001b[0m\u001b[90m━━━━━━━━━━━━━━━━━━━━━━━━━━━━━━━━━━━━━\u001b[0m \u001b[32m0.1/1.6 MB\u001b[0m \u001b[31m3.3 MB/s\u001b[0m eta \u001b[36m0:00:01\u001b[0m\r\u001b[2K     \u001b[91m━━━━━━━━━━━━━━━━━━━━━━━━━━━━━━━━━━\u001b[0m\u001b[91m╸\u001b[0m\u001b[90m━━━━━\u001b[0m \u001b[32m1.4/1.6 MB\u001b[0m \u001b[31m22.0 MB/s\u001b[0m eta \u001b[36m0:00:01\u001b[0m\r\u001b[2K     \u001b[90m━━━━━━━━━━━━━━━━━━━━━━━━━━━━━━━━━━━━━━━━\u001b[0m \u001b[32m1.6/1.6 MB\u001b[0m \u001b[31m17.0 MB/s\u001b[0m eta \u001b[36m0:00:00\u001b[0m\n",
            "\u001b[?25hAutomatic pdb calling has been turned ON\n"
          ]
        }
      ]
    },
    {
      "cell_type": "code",
      "execution_count": 5,
      "metadata": {
        "colab": {
          "base_uri": "https://localhost:8080/"
        },
        "id": "HjadEwb0iwpH",
        "outputId": "894ab800-ebfd-4814-ac8d-2a452565817a"
      },
      "outputs": [
        {
          "output_type": "stream",
          "name": "stdout",
          "text": [
            "     PassengerId HomePlanet CryoSleep     Cabin    Destination   Age    VIP  \\\n",
            "0        0001_01     Europa     False     B/0/P    TRAPPIST-1e  39.0  False   \n",
            "1        0002_01      Earth     False     F/0/S    TRAPPIST-1e  24.0  False   \n",
            "2        0003_01     Europa     False     A/0/S    TRAPPIST-1e  58.0   True   \n",
            "3        0003_02     Europa     False     A/0/S    TRAPPIST-1e  33.0  False   \n",
            "4        0004_01      Earth     False     F/1/S    TRAPPIST-1e  16.0  False   \n",
            "...          ...        ...       ...       ...            ...   ...    ...   \n",
            "8688     9276_01     Europa     False    A/98/P    55 Cancri e  41.0   True   \n",
            "8689     9278_01      Earth      True  G/1499/S  PSO J318.5-22  18.0  False   \n",
            "8690     9279_01      Earth     False  G/1500/S    TRAPPIST-1e  26.0  False   \n",
            "8691     9280_01     Europa     False   E/608/S    55 Cancri e  32.0  False   \n",
            "8692     9280_02     Europa     False   E/608/S    TRAPPIST-1e  44.0  False   \n",
            "\n",
            "      RoomService  FoodCourt  ShoppingMall     Spa  VRDeck               Name  \\\n",
            "0             0.0        0.0           0.0     0.0     0.0    Maham Ofracculy   \n",
            "1           109.0        9.0          25.0   549.0    44.0       Juanna Vines   \n",
            "2            43.0     3576.0           0.0  6715.0    49.0      Altark Susent   \n",
            "3             0.0     1283.0         371.0  3329.0   193.0       Solam Susent   \n",
            "4           303.0       70.0         151.0   565.0     2.0  Willy Santantines   \n",
            "...           ...        ...           ...     ...     ...                ...   \n",
            "8688          0.0     6819.0           0.0  1643.0    74.0  Gravior Noxnuther   \n",
            "8689          0.0        0.0           0.0     0.0     0.0    Kurta Mondalley   \n",
            "8690          0.0        0.0        1872.0     1.0     0.0       Fayey Connon   \n",
            "8691          0.0     1049.0           0.0   353.0  3235.0   Celeon Hontichre   \n",
            "8692        126.0     4688.0           0.0     0.0    12.0   Propsh Hontichre   \n",
            "\n",
            "      Transported  \n",
            "0           False  \n",
            "1            True  \n",
            "2           False  \n",
            "3           False  \n",
            "4            True  \n",
            "...           ...  \n",
            "8688        False  \n",
            "8689        False  \n",
            "8690         True  \n",
            "8691        False  \n",
            "8692         True  \n",
            "\n",
            "[8693 rows x 14 columns]\n"
          ]
        }
      ],
      "source": [
        "import pandas as pd\n",
        "\n",
        "\n",
        "train_data_df = pd.read_csv(\"/content/spaceship-titanic/train.csv\")\n",
        "test_data_df = pd.read_csv(\"/content/spaceship-titanic/test.csv\")\n",
        "print(train_data_df)\n",
        "\n"
      ]
    },
    {
      "cell_type": "code",
      "execution_count": 6,
      "metadata": {
        "colab": {
          "base_uri": "https://localhost:8080/"
        },
        "id": "Wzo3zse-oc7M",
        "outputId": "7e428101-ffc1-4922-b71f-145caaf12595"
      },
      "outputs": [
        {
          "output_type": "execute_result",
          "data": {
            "text/plain": [
              "PassengerId       0\n",
              "HomePlanet      201\n",
              "CryoSleep       217\n",
              "Cabin           199\n",
              "Destination     182\n",
              "Age             179\n",
              "VIP             203\n",
              "RoomService     181\n",
              "FoodCourt       183\n",
              "ShoppingMall    208\n",
              "Spa             183\n",
              "VRDeck          188\n",
              "Name            200\n",
              "Transported       0\n",
              "dtype: int64"
            ]
          },
          "metadata": {},
          "execution_count": 6
        }
      ],
      "source": [
        "train_data_df.isna().sum()"
      ]
    },
    {
      "cell_type": "code",
      "execution_count": 7,
      "metadata": {
        "colab": {
          "base_uri": "https://localhost:8080/"
        },
        "id": "r8JrjakFpimS",
        "outputId": "739b790e-fd3b-42f3-b71e-09db0f08bbdd"
      },
      "outputs": [
        {
          "output_type": "stream",
          "name": "stdout",
          "text": [
            "8693\n",
            "8693\n"
          ]
        }
      ],
      "source": [
        "print(len(train_data_df))\n",
        "train_data_df_filled_na = train_data_df.fillna(method = \"ffill\")\n",
        "print(len(train_data_df))"
      ]
    },
    {
      "cell_type": "code",
      "execution_count": 8,
      "metadata": {
        "colab": {
          "base_uri": "https://localhost:8080/"
        },
        "id": "gySVAlc5qJup",
        "outputId": "0f7aa262-18a0-485f-be80-119b539b881c"
      },
      "outputs": [
        {
          "output_type": "execute_result",
          "data": {
            "text/plain": [
              "PassengerId       0\n",
              "HomePlanet      201\n",
              "CryoSleep       217\n",
              "Cabin           199\n",
              "Destination     182\n",
              "Age             179\n",
              "VIP             203\n",
              "RoomService     181\n",
              "FoodCourt       183\n",
              "ShoppingMall    208\n",
              "Spa             183\n",
              "VRDeck          188\n",
              "Name            200\n",
              "Transported       0\n",
              "dtype: int64"
            ]
          },
          "metadata": {},
          "execution_count": 8
        }
      ],
      "source": [
        "train_data_df.isna().sum()"
      ]
    },
    {
      "cell_type": "code",
      "execution_count": 9,
      "metadata": {
        "colab": {
          "base_uri": "https://localhost:8080/"
        },
        "id": "vthmW0o5wYk2",
        "outputId": "fd96646e-fdbc-4b94-d222-8adf9d0ab39d"
      },
      "outputs": [
        {
          "output_type": "stream",
          "name": "stdout",
          "text": [
            "PassengerId      object\n",
            "HomePlanet       object\n",
            "CryoSleep          bool\n",
            "Cabin            object\n",
            "Destination      object\n",
            "Age             float64\n",
            "VIP                bool\n",
            "RoomService     float64\n",
            "FoodCourt       float64\n",
            "ShoppingMall    float64\n",
            "Spa             float64\n",
            "VRDeck          float64\n",
            "Name             object\n",
            "Transported        bool\n",
            "dtype: object\n"
          ]
        }
      ],
      "source": [
        "print(train_data_df_filled_na.dtypes)"
      ]
    },
    {
      "cell_type": "code",
      "execution_count": 10,
      "metadata": {
        "id": "R3ffg11ojc4b"
      },
      "outputs": [],
      "source": [
        "len(train_data_df_filled_na)\n",
        "\n",
        "X = train_data_df_filled_na.loc[:, train_data_df.columns != 'Transported']\n",
        "y = train_data_df_filled_na['Transported']\n"
      ]
    },
    {
      "cell_type": "code",
      "execution_count": 11,
      "metadata": {
        "colab": {
          "base_uri": "https://localhost:8080/"
        },
        "id": "3fgjZGWE_Z27",
        "outputId": "49b79fb8-b9c7-46e9-e351-e6c207acc762"
      },
      "outputs": [
        {
          "output_type": "stream",
          "name": "stdout",
          "text": [
            "      PassengerId  HomePlanet  CryoSleep  Cabin  Destination   Age    VIP  \\\n",
            "0               0           1      False    149            2  39.0  False   \n",
            "1               1           0      False   2184            2  24.0  False   \n",
            "2               2           1      False      1            2  58.0   True   \n",
            "3               3           1      False      1            2  33.0  False   \n",
            "4               4           0      False   2186            2  16.0  False   \n",
            "...           ...         ...        ...    ...          ...   ...    ...   \n",
            "8688         8688           1      False    146            0  41.0   True   \n",
            "8689         8689           0       True   5280            1  18.0  False   \n",
            "8690         8690           0      False   5285            2  26.0  False   \n",
            "8691         8691           1      False   2131            0  32.0  False   \n",
            "8692         8692           1      False   2131            2  44.0  False   \n",
            "\n",
            "      RoomService  FoodCourt  ShoppingMall     Spa  VRDeck  Name  \n",
            "0             0.0        0.0           0.0     0.0     0.0  5252  \n",
            "1           109.0        9.0          25.0   549.0    44.0  4502  \n",
            "2            43.0     3576.0           0.0  6715.0    49.0   457  \n",
            "3             0.0     1283.0         371.0  3329.0   193.0  7149  \n",
            "4           303.0       70.0         151.0   565.0     2.0  8319  \n",
            "...           ...        ...           ...     ...     ...   ...  \n",
            "8688          0.0     6819.0           0.0  1643.0    74.0  3524  \n",
            "8689          0.0        0.0           0.0     0.0     0.0  4780  \n",
            "8690          0.0        0.0        1872.0     1.0     0.0  3002  \n",
            "8691          0.0     1049.0           0.0   353.0  3235.0  1596  \n",
            "8692        126.0     4688.0           0.0     0.0    12.0  6380  \n",
            "\n",
            "[8693 rows x 13 columns]\n"
          ]
        },
        {
          "output_type": "stream",
          "name": "stderr",
          "text": [
            "<ipython-input-11-1ab09f2cd358>:14: SettingWithCopyWarning: \n",
            "A value is trying to be set on a copy of a slice from a DataFrame.\n",
            "Try using .loc[row_indexer,col_indexer] = value instead\n",
            "\n",
            "See the caveats in the documentation: https://pandas.pydata.org/pandas-docs/stable/user_guide/indexing.html#returning-a-view-versus-a-copy\n",
            "  X['PassengerId'] = label_encoder.fit_transform(X['PassengerId'])\n",
            "<ipython-input-11-1ab09f2cd358>:15: SettingWithCopyWarning: \n",
            "A value is trying to be set on a copy of a slice from a DataFrame.\n",
            "Try using .loc[row_indexer,col_indexer] = value instead\n",
            "\n",
            "See the caveats in the documentation: https://pandas.pydata.org/pandas-docs/stable/user_guide/indexing.html#returning-a-view-versus-a-copy\n",
            "  X[\"HomePlanet\"] = label_encoder.fit_transform(X[\"HomePlanet\"])\n",
            "<ipython-input-11-1ab09f2cd358>:16: SettingWithCopyWarning: \n",
            "A value is trying to be set on a copy of a slice from a DataFrame.\n",
            "Try using .loc[row_indexer,col_indexer] = value instead\n",
            "\n",
            "See the caveats in the documentation: https://pandas.pydata.org/pandas-docs/stable/user_guide/indexing.html#returning-a-view-versus-a-copy\n",
            "  X['Destination'] = label_encoder.fit_transform(X['Destination'])\n",
            "<ipython-input-11-1ab09f2cd358>:17: SettingWithCopyWarning: \n",
            "A value is trying to be set on a copy of a slice from a DataFrame.\n",
            "Try using .loc[row_indexer,col_indexer] = value instead\n",
            "\n",
            "See the caveats in the documentation: https://pandas.pydata.org/pandas-docs/stable/user_guide/indexing.html#returning-a-view-versus-a-copy\n",
            "  X['Cabin'] = label_encoder.fit_transform(X['Cabin'])\n",
            "<ipython-input-11-1ab09f2cd358>:18: SettingWithCopyWarning: \n",
            "A value is trying to be set on a copy of a slice from a DataFrame.\n",
            "Try using .loc[row_indexer,col_indexer] = value instead\n",
            "\n",
            "See the caveats in the documentation: https://pandas.pydata.org/pandas-docs/stable/user_guide/indexing.html#returning-a-view-versus-a-copy\n",
            "  X['Name'] = label_encoder.fit_transform(X['Name'])\n"
          ]
        }
      ],
      "source": [
        "# Encoding\n",
        "from sklearn.preprocessing import LabelEncoder\n",
        "\n",
        "# Encoding\n",
        "# from sklearn.preprocessing import OneHotEncoder\n",
        "# oneHotEncoder = OneHotEncoder(handle_unknown='ignore')\n",
        "# # encode the entire training dataset\n",
        "# columns_to_encode = [\"PassengerId\", \"HomePlanet\", \"Destination\", \"Cabin\", \"Name\"]\n",
        "# oneHotEncoder.fit(X[columns_to_encode])\n",
        "# # encode the specified columns individually\n",
        "# X[columns_to_encode] = oneHotEncoder.transform(X[columns_to_encode])\n",
        "\n",
        "label_encoder = LabelEncoder()\n",
        "X['PassengerId'] = label_encoder.fit_transform(X['PassengerId'])\n",
        "X[\"HomePlanet\"] = label_encoder.fit_transform(X[\"HomePlanet\"])\n",
        "X['Destination'] = label_encoder.fit_transform(X['Destination'])\n",
        "X['Cabin'] = label_encoder.fit_transform(X['Cabin'])\n",
        "X['Name'] = label_encoder.fit_transform(X['Name'])\n",
        "print(X)"
      ]
    },
    {
      "cell_type": "code",
      "execution_count": 12,
      "metadata": {
        "colab": {
          "base_uri": "https://localhost:8080/"
        },
        "id": "U6CNLqSHFYu6",
        "outputId": "875017bb-89c1-48fb-fc3e-17f609c9b93d"
      },
      "outputs": [
        {
          "output_type": "stream",
          "name": "stdout",
          "text": [
            "PassengerId       int64\n",
            "HomePlanet        int64\n",
            "CryoSleep          bool\n",
            "Cabin             int64\n",
            "Destination       int64\n",
            "Age             float64\n",
            "VIP                bool\n",
            "RoomService     float64\n",
            "FoodCourt       float64\n",
            "ShoppingMall    float64\n",
            "Spa             float64\n",
            "VRDeck          float64\n",
            "Name              int64\n",
            "dtype: object\n"
          ]
        }
      ],
      "source": [
        "print(X.dtypes)"
      ]
    },
    {
      "cell_type": "code",
      "execution_count": 13,
      "metadata": {
        "id": "Enqems_WmGgb"
      },
      "outputs": [],
      "source": [
        "from sklearn.model_selection import train_test_split, GridSearchCV\n",
        "\n",
        "X_train, X_val, y_train, y_val = train_test_split(X, y, test_size=.3)"
      ]
    },
    {
      "cell_type": "code",
      "execution_count": 14,
      "metadata": {
        "colab": {
          "base_uri": "https://localhost:8080/"
        },
        "id": "ODOq5UWSFr2a",
        "outputId": "d786e24a-60fe-434a-93f6-ddf6670bad85"
      },
      "outputs": [
        {
          "output_type": "stream",
          "name": "stdout",
          "text": [
            "(6085,)\n"
          ]
        }
      ],
      "source": [
        "from sklearn.preprocessing import MinMaxScaler, StandardScaler\n",
        "\n",
        "print(X_train[\"RoomService\"].shape)\n",
        "\n",
        "\n",
        "# Initialize StandardScaler\n",
        "scaler = StandardScaler()\n",
        "\n",
        "columns_to_transform = [\"RoomService\", \"FoodCourt\", \"ShoppingMall\", \"Spa\", \"VRDeck\"]\n",
        "\n",
        "# Fit scaler to the entire training dataset\n",
        "scaler.fit(X_train[columns_to_transform])\n",
        "\n",
        "# Transform both Train and Validation data\n",
        "X_train[columns_to_transform] = scaler.transform(X_train[columns_to_transform])\n",
        "X_val[columns_to_transform] = scaler.transform(X_val[columns_to_transform])\n"
      ]
    },
    {
      "cell_type": "code",
      "execution_count": 15,
      "metadata": {
        "colab": {
          "base_uri": "https://localhost:8080/",
          "height": 75
        },
        "id": "LcGh448uRAv8",
        "outputId": "31fcf1ca-11e3-468c-9c89-d10aa06e703d"
      },
      "outputs": [
        {
          "output_type": "execute_result",
          "data": {
            "text/plain": [
              "SVC()"
            ],
            "text/html": [
              "<style>#sk-container-id-1 {color: black;background-color: white;}#sk-container-id-1 pre{padding: 0;}#sk-container-id-1 div.sk-toggleable {background-color: white;}#sk-container-id-1 label.sk-toggleable__label {cursor: pointer;display: block;width: 100%;margin-bottom: 0;padding: 0.3em;box-sizing: border-box;text-align: center;}#sk-container-id-1 label.sk-toggleable__label-arrow:before {content: \"▸\";float: left;margin-right: 0.25em;color: #696969;}#sk-container-id-1 label.sk-toggleable__label-arrow:hover:before {color: black;}#sk-container-id-1 div.sk-estimator:hover label.sk-toggleable__label-arrow:before {color: black;}#sk-container-id-1 div.sk-toggleable__content {max-height: 0;max-width: 0;overflow: hidden;text-align: left;background-color: #f0f8ff;}#sk-container-id-1 div.sk-toggleable__content pre {margin: 0.2em;color: black;border-radius: 0.25em;background-color: #f0f8ff;}#sk-container-id-1 input.sk-toggleable__control:checked~div.sk-toggleable__content {max-height: 200px;max-width: 100%;overflow: auto;}#sk-container-id-1 input.sk-toggleable__control:checked~label.sk-toggleable__label-arrow:before {content: \"▾\";}#sk-container-id-1 div.sk-estimator input.sk-toggleable__control:checked~label.sk-toggleable__label {background-color: #d4ebff;}#sk-container-id-1 div.sk-label input.sk-toggleable__control:checked~label.sk-toggleable__label {background-color: #d4ebff;}#sk-container-id-1 input.sk-hidden--visually {border: 0;clip: rect(1px 1px 1px 1px);clip: rect(1px, 1px, 1px, 1px);height: 1px;margin: -1px;overflow: hidden;padding: 0;position: absolute;width: 1px;}#sk-container-id-1 div.sk-estimator {font-family: monospace;background-color: #f0f8ff;border: 1px dotted black;border-radius: 0.25em;box-sizing: border-box;margin-bottom: 0.5em;}#sk-container-id-1 div.sk-estimator:hover {background-color: #d4ebff;}#sk-container-id-1 div.sk-parallel-item::after {content: \"\";width: 100%;border-bottom: 1px solid gray;flex-grow: 1;}#sk-container-id-1 div.sk-label:hover label.sk-toggleable__label {background-color: #d4ebff;}#sk-container-id-1 div.sk-serial::before {content: \"\";position: absolute;border-left: 1px solid gray;box-sizing: border-box;top: 0;bottom: 0;left: 50%;z-index: 0;}#sk-container-id-1 div.sk-serial {display: flex;flex-direction: column;align-items: center;background-color: white;padding-right: 0.2em;padding-left: 0.2em;position: relative;}#sk-container-id-1 div.sk-item {position: relative;z-index: 1;}#sk-container-id-1 div.sk-parallel {display: flex;align-items: stretch;justify-content: center;background-color: white;position: relative;}#sk-container-id-1 div.sk-item::before, #sk-container-id-1 div.sk-parallel-item::before {content: \"\";position: absolute;border-left: 1px solid gray;box-sizing: border-box;top: 0;bottom: 0;left: 50%;z-index: -1;}#sk-container-id-1 div.sk-parallel-item {display: flex;flex-direction: column;z-index: 1;position: relative;background-color: white;}#sk-container-id-1 div.sk-parallel-item:first-child::after {align-self: flex-end;width: 50%;}#sk-container-id-1 div.sk-parallel-item:last-child::after {align-self: flex-start;width: 50%;}#sk-container-id-1 div.sk-parallel-item:only-child::after {width: 0;}#sk-container-id-1 div.sk-dashed-wrapped {border: 1px dashed gray;margin: 0 0.4em 0.5em 0.4em;box-sizing: border-box;padding-bottom: 0.4em;background-color: white;}#sk-container-id-1 div.sk-label label {font-family: monospace;font-weight: bold;display: inline-block;line-height: 1.2em;}#sk-container-id-1 div.sk-label-container {text-align: center;}#sk-container-id-1 div.sk-container {/* jupyter's `normalize.less` sets `[hidden] { display: none; }` but bootstrap.min.css set `[hidden] { display: none !important; }` so we also need the `!important` here to be able to override the default hidden behavior on the sphinx rendered scikit-learn.org. See: https://github.com/scikit-learn/scikit-learn/issues/21755 */display: inline-block !important;position: relative;}#sk-container-id-1 div.sk-text-repr-fallback {display: none;}</style><div id=\"sk-container-id-1\" class=\"sk-top-container\"><div class=\"sk-text-repr-fallback\"><pre>SVC()</pre><b>In a Jupyter environment, please rerun this cell to show the HTML representation or trust the notebook. <br />On GitHub, the HTML representation is unable to render, please try loading this page with nbviewer.org.</b></div><div class=\"sk-container\" hidden><div class=\"sk-item\"><div class=\"sk-estimator sk-toggleable\"><input class=\"sk-toggleable__control sk-hidden--visually\" id=\"sk-estimator-id-1\" type=\"checkbox\" checked><label for=\"sk-estimator-id-1\" class=\"sk-toggleable__label sk-toggleable__label-arrow\">SVC</label><div class=\"sk-toggleable__content\"><pre>SVC()</pre></div></div></div></div></div>"
            ]
          },
          "metadata": {},
          "execution_count": 15
        }
      ],
      "source": [
        "# Perform PCA\n",
        "\n",
        "from sklearn.decomposition import PCA\n",
        "from sklearn.pipeline import Pipeline\n",
        "from sklearn.linear_model import LogisticRegression\n",
        "from sklearn.svm import SVC\n",
        "\n",
        "# pca = PCA()  # initializing the pca\n",
        "# pca.set_params(n_components = .99)    # configure the number of components\n",
        "# X_train = pca.fit_transform(X_train)\n",
        "# X_val = pca.transform(X_val)\n",
        "\n",
        "classifier = SVC()\n",
        "\n",
        "classifier.fit(X_train, y_train)\n",
        "\n",
        "# Define the parameter grid to search\n",
        "param_grid = {\n",
        "    'C': [0.1, 1, 10],\n",
        "    'kernel': ['linear', 'rbf', 'poly'],\n",
        "    'gamma': ['scale', 'auto']\n",
        "}\n",
        "\n",
        "# Initialize SVC\n",
        "svc = SVC()\n",
        "\n",
        "svc.fit(X_train, y_train)\n",
        "\n",
        "\n",
        "# Initialize GridSearchCV\n",
        "# grid_search = GridSearchCV(estimator=svc, param_grid=param_grid, cv=3)\n",
        "\n",
        "# # Perform grid search on training data\n",
        "# grid_search.fit(X_train[:50], y_train[:50])\n",
        "\n",
        "# # Print best parameters and best score\n",
        "# print(\"Best Parameters:\", grid_search.best_params_)\n",
        "# print(\"Best Score:\", grid_search.best_score_)\n"
      ]
    },
    {
      "cell_type": "code",
      "source": [
        "print(svc.score(X_train, y_train))\n",
        "print(svc.score(X_val, y_val))"
      ],
      "metadata": {
        "colab": {
          "base_uri": "https://localhost:8080/"
        },
        "id": "W7EdQ3Ahbu6G",
        "outputId": "d4e3f2a4-e4a5-47a5-ff7d-66a3e829852c"
      },
      "execution_count": 16,
      "outputs": [
        {
          "output_type": "stream",
          "name": "stdout",
          "text": [
            "0.580115036976171\n",
            "0.5805214723926381\n"
          ]
        }
      ]
    },
    {
      "cell_type": "code",
      "execution_count": 17,
      "metadata": {
        "id": "OoapzNmIKlVG",
        "colab": {
          "base_uri": "https://localhost:8080/"
        },
        "outputId": "8b97ea90-a826-4b5f-bec4-d3321efb5fb4"
      },
      "outputs": [
        {
          "output_type": "stream",
          "name": "stdout",
          "text": [
            "0.580115036976171\n",
            "0.5805214723926381\n"
          ]
        }
      ],
      "source": [
        "print(classifier.score(X_train, y_train))\n",
        "print(classifier.score(X_val, y_val))"
      ]
    },
    {
      "cell_type": "code",
      "source": [
        "model = LogisticRegression(random_state=42)\n",
        "\n",
        "model.fit(X_train, y_train)\n",
        "\n",
        "prediction = model.predict(X_val)\n",
        "\n",
        "correct_pred = (prediction == y_val).sum()\n",
        "total_pred = len(y_val)\n",
        "\n",
        "acc = correct_pred/total_pred\n",
        "print(\"Accuracy:\", acc)"
      ],
      "metadata": {
        "colab": {
          "base_uri": "https://localhost:8080/"
        },
        "id": "36XKWm1Ph1_O",
        "outputId": "71c66108-db19-4684-f6e3-d445a501d31c"
      },
      "execution_count": 18,
      "outputs": [
        {
          "output_type": "stream",
          "name": "stdout",
          "text": [
            "Accuracy: 0.7680214723926381\n"
          ]
        }
      ]
    },
    {
      "cell_type": "code",
      "source": [
        "from sklearn.tree import DecisionTreeClassifier\n",
        "from sklearn import metrics\n",
        "import matplotlib.pyplot as plt\n",
        "\n",
        "acc = []\n",
        "depth = [i for i in range(1, 21)]\n",
        "\n",
        "for d in depth:\n",
        "    model = DecisionTreeClassifier(random_state = 42, max_depth=d)\n",
        "    model.fit(X_train, y_train)\n",
        "    prediction = model.predict(X_val)\n",
        "    correct_pred = (prediction == y_val).sum()\n",
        "    total_pred = len(y_val)\n",
        "\n",
        "    acc.append(correct_pred/total_pred)\n",
        "\n",
        "\n",
        "plt.plot(depth, acc)\n",
        "plt.xlabel(\"Depth\")\n",
        "plt.ylabel(\"accuracy\")\n",
        "plt.title(\"accuracy vs max depth\")\n",
        "plt.show()\n",
        "\n"
      ],
      "metadata": {
        "id": "EE0aX231qvG0",
        "outputId": "0bbf1daa-0d8e-4c1e-f817-59695722bd3c",
        "colab": {
          "base_uri": "https://localhost:8080/",
          "height": 472
        }
      },
      "execution_count": 19,
      "outputs": [
        {
          "output_type": "display_data",
          "data": {
            "text/plain": [
              "<Figure size 640x480 with 1 Axes>"
            ],
            "image/png": "[encoded data removed]"
          },
          "metadata": {}
        }
      ]
    },
    {
      "cell_type": "code",
      "source": [
        "from sklearn.ensemble import RandomForestClassifier\n",
        "\n",
        "model = RandomForestClassifier(random_state=42, max_depth=10)\n",
        "model.fit(X_train, y_train)\n",
        "\n",
        "prediction = model.predict(X_val)\n",
        "correct_pred = (prediction == y_val).sum()\n",
        "total_pred = len(y_val)\n",
        "\n",
        "acc = (correct_pred/total_pred)\n",
        "print(\"Accuracy:\", acc)"
      ],
      "metadata": {
        "id": "Hg8R4IvI4mAW",
        "outputId": "cf2118ab-bcb1-4b7b-cf0d-b38e0d029989",
        "colab": {
          "base_uri": "https://localhost:8080/"
        }
      },
      "execution_count": 21,
      "outputs": [
        {
          "output_type": "stream",
          "name": "stdout",
          "text": [
            "Accuracy: 0.7933282208588958\n"
          ]
        }
      ]
    },
    {
      "cell_type": "code",
      "source": [
        "from sklearn.ensemble import RandomForestClassifier\n",
        "\n",
        "\n",
        "\n",
        "# randomforest with gridsearch\n",
        "\n",
        "model = RandomForestClassifier(random_state=42)\n",
        "\n",
        "\n",
        "param_grid = {\n",
        "  'max_depth': [5, 10, 15, 18, 20],\n",
        "  'n_estimators': [150, 200, 250, 300, 350, 400],  # Number of trees in the forest\n",
        "  'criterion': ['gini', 'entropy']\n",
        "}\n",
        "\n",
        "# Perform Grid Search Cross Validation\n",
        "grid_search = GridSearchCV(estimator=model, param_grid=param_grid, cv=5)\n",
        "grid_search.fit(X_train, y_train)\n",
        "\n",
        "# Get the best parameters and the corresponding accuracy\n",
        "best_params = grid_search.best_params_\n",
        "best_accuracy = grid_search.best_score_\n",
        "\n",
        "print(\"Best Parameters:\", best_params)\n",
        "print(\"Best Accuracy:\", best_accuracy)\n",
        "\n",
        "\n"
      ],
      "metadata": {
        "id": "x25v1gqwuuRl"
      },
      "execution_count": null,
      "outputs": []
    },
    {
      "cell_type": "code",
      "source": [
        "from sklearn.ensemble import GradientBoostingClassifier\n",
        "\n",
        "\n",
        "model = GradientBoostingClassifier(max_depth=5, random_state=42)\n",
        "model.fit(X_train, y_train)\n",
        "\n",
        "print(model.score(X_val, y_val))\n",
        "\n",
        "importances = model.feature_importances_\n",
        "\n",
        "feature_names = train_data_df.columns.tolist()\n",
        "\n",
        "importance_feature_pairs = zip(importances, feature_names)\n",
        "\n",
        "# Sort the pairs based on importance values in ascending order\n",
        "sorted_pairs = sorted(importance_feature_pairs)\n",
        "\n",
        "# Print the sorted feature importances\n",
        "for importance, feature_name in sorted_pairs:\n",
        "    print(f\"{feature_name}: importance = {importance}\")"
      ],
      "metadata": {
        "id": "FHkRq3cvz7y5"
      },
      "execution_count": null,
      "outputs": []
    },
    {
      "cell_type": "code",
      "source": [
        "import seaborn as sns\n",
        "def correlation_heatmap(df):\n",
        "    _ , ax = plt.subplots(figsize =(14, 12))\n",
        "    colormap = sns.diverging_palette(220, 10, as_cmap = True)\n",
        "\n",
        "    _ = sns.heatmap(\n",
        "        df.corr(),\n",
        "        cmap = colormap,\n",
        "        square=True,\n",
        "        cbar_kws={'shrink':.9 },\n",
        "        ax=ax,\n",
        "        annot=True,\n",
        "        linewidths=0.1,vmax=1.0, linecolor='white',\n",
        "        annot_kws={'fontsize': 5 }\n",
        "    )\n",
        "\n",
        "    plt.title('Pearson Correlation of Features', y=1.05, size=15)\n",
        "\n",
        "correlation_heatmap(train_data_df)"
      ],
      "metadata": {
        "id": "fGXYc3TnEh5P"
      },
      "execution_count": null,
      "outputs": []
    }
  ],
  "metadata": {
    "colab": {
      "provenance": [],
      "include_colab_link": true
    },
    "kernelspec": {
      "display_name": "Python 3",
      "name": "python3"
    },
    "language_info": {
      "name": "python"
    }
  },
  "nbformat": 4,
  "nbformat_minor": 0
}