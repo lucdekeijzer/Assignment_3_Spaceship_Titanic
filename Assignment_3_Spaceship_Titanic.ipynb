{
  "cells": [
    {
      "cell_type": "markdown",
      "metadata": {
        "id": "view-in-github",
        "colab_type": "text"
      },
      "source": [
        "<a href=\"https://colab.research.google.com/github/lucdekeijzer/Assignment_3_Spaceship_Titanic/blob/main/Assignment_3_Spaceship_Titanic.ipynb\" target=\"_parent\"><img src=\"https://colab.research.google.com/assets/colab-badge.svg\" alt=\"Open In Colab\"/></a>"
      ]
    },
    {
      "cell_type": "code",
      "source": [
        "from google.colab import userdata\n",
        "import os\n",
        "\n",
        "os.environ[\"KAGGLE_KEY\"] = userdata.get('KAGGLE_KEY')\n",
        "os.environ[\"KAGGLE_USERNAME\"] = userdata.get('KAGGLE_USERNAME')"
      ],
      "metadata": {
        "id": "KzW86UsUjzqA"
      },
      "execution_count": 62,
      "outputs": []
    },
    {
      "cell_type": "code",
      "source": [
        "dataset = 'spaceship-titanic'\n",
        "\n",
        "!kaggle competitions download -c $dataset\n",
        "\n",
        "zip_file = f\"{dataset}.zip\"\n",
        "destination_dir = f\"/content/{dataset}\"\n",
        "\n",
        "if not os.path.exists(zip_file):\n",
        "    print(f\"Error: {zip_file} not found.\")\n",
        "else:\n",
        "    !unzip -q $zip_file -d $destination_dir\n",
        "    !rm $zip_file"
      ],
      "metadata": {
        "colab": {
          "base_uri": "https://localhost:8080/"
        },
        "id": "iBzz141kkVgR",
        "outputId": "c9257ca0-0482-4939-f629-195f13596380"
      },
      "execution_count": 63,
      "outputs": [
        {
          "output_type": "stream",
          "name": "stdout",
          "text": [
            "Downloading spaceship-titanic.zip to /content\n",
            "100% 299k/299k [00:00<00:00, 882kB/s]\n",
            "100% 299k/299k [00:00<00:00, 880kB/s]\n",
            "replace /content/spaceship-titanic/sample_submission.csv? [y]es, [n]o, [A]ll, [N]one, [r]ename: "
          ]
        }
      ]
    },
    {
      "cell_type": "code",
      "execution_count": 74,
      "metadata": {
        "colab": {
          "base_uri": "https://localhost:8080/"
        },
        "id": "HjadEwb0iwpH",
        "outputId": "568863fe-c404-4111-ca8d-1879cd265bd2"
      },
      "outputs": [
        {
          "output_type": "stream",
          "name": "stdout",
          "text": [
            "     PassengerId HomePlanet CryoSleep     Cabin    Destination   Age    VIP  \\\n",
            "0        0001_01     Europa     False     B/0/P    TRAPPIST-1e  39.0  False   \n",
            "1        0002_01      Earth     False     F/0/S    TRAPPIST-1e  24.0  False   \n",
            "2        0003_01     Europa     False     A/0/S    TRAPPIST-1e  58.0   True   \n",
            "3        0003_02     Europa     False     A/0/S    TRAPPIST-1e  33.0  False   \n",
            "4        0004_01      Earth     False     F/1/S    TRAPPIST-1e  16.0  False   \n",
            "...          ...        ...       ...       ...            ...   ...    ...   \n",
            "8688     9276_01     Europa     False    A/98/P    55 Cancri e  41.0   True   \n",
            "8689     9278_01      Earth      True  G/1499/S  PSO J318.5-22  18.0  False   \n",
            "8690     9279_01      Earth     False  G/1500/S    TRAPPIST-1e  26.0  False   \n",
            "8691     9280_01     Europa     False   E/608/S    55 Cancri e  32.0  False   \n",
            "8692     9280_02     Europa     False   E/608/S    TRAPPIST-1e  44.0  False   \n",
            "\n",
            "      RoomService  FoodCourt  ShoppingMall     Spa  VRDeck               Name  \\\n",
            "0             0.0        0.0           0.0     0.0     0.0    Maham Ofracculy   \n",
            "1           109.0        9.0          25.0   549.0    44.0       Juanna Vines   \n",
            "2            43.0     3576.0           0.0  6715.0    49.0      Altark Susent   \n",
            "3             0.0     1283.0         371.0  3329.0   193.0       Solam Susent   \n",
            "4           303.0       70.0         151.0   565.0     2.0  Willy Santantines   \n",
            "...           ...        ...           ...     ...     ...                ...   \n",
            "8688          0.0     6819.0           0.0  1643.0    74.0  Gravior Noxnuther   \n",
            "8689          0.0        0.0           0.0     0.0     0.0    Kurta Mondalley   \n",
            "8690          0.0        0.0        1872.0     1.0     0.0       Fayey Connon   \n",
            "8691          0.0     1049.0           0.0   353.0  3235.0   Celeon Hontichre   \n",
            "8692        126.0     4688.0           0.0     0.0    12.0   Propsh Hontichre   \n",
            "\n",
            "      Transported  \n",
            "0           False  \n",
            "1            True  \n",
            "2           False  \n",
            "3           False  \n",
            "4            True  \n",
            "...           ...  \n",
            "8688        False  \n",
            "8689        False  \n",
            "8690         True  \n",
            "8691        False  \n",
            "8692         True  \n",
            "\n",
            "[8693 rows x 14 columns]\n"
          ]
        }
      ],
      "source": [
        "import pandas as pd\n",
        "\n",
        "\n",
        "train_data_df = pd.read_csv(\"/content/spaceship-titanic/train.csv\")\n",
        "test_data_df = pd.read_csv(\"/content/spaceship-titanic/test.csv\")\n",
        "print(train_data_df)\n",
        "\n"
      ]
    },
    {
      "cell_type": "code",
      "execution_count": 65,
      "metadata": {
        "colab": {
          "base_uri": "https://localhost:8080/"
        },
        "id": "Wzo3zse-oc7M",
        "outputId": "12e3d1f8-3e84-4825-a5dd-bf8e5ee4d212"
      },
      "outputs": [
        {
          "output_type": "execute_result",
          "data": {
            "text/plain": [
              "PassengerId       0\n",
              "HomePlanet      201\n",
              "CryoSleep       217\n",
              "Cabin           199\n",
              "Destination     182\n",
              "Age             179\n",
              "VIP             203\n",
              "RoomService     181\n",
              "FoodCourt       183\n",
              "ShoppingMall    208\n",
              "Spa             183\n",
              "VRDeck          188\n",
              "Name            200\n",
              "Transported       0\n",
              "dtype: int64"
            ]
          },
          "metadata": {},
          "execution_count": 65
        }
      ],
      "source": [
        "train_data_df.isna().sum()"
      ]
    },
    {
      "cell_type": "code",
      "execution_count": 66,
      "metadata": {
        "colab": {
          "base_uri": "https://localhost:8080/"
        },
        "id": "r8JrjakFpimS",
        "outputId": "dba51fc3-4929-4850-cb25-0a91bb84e763"
      },
      "outputs": [
        {
          "output_type": "stream",
          "name": "stdout",
          "text": [
            "8693\n",
            "8693\n"
          ]
        }
      ],
      "source": [
        "print(len(train_data_df))\n",
        "train_data_df_filled_na = train_data_df.fillna(method = \"ffill\")\n",
        "print(len(train_data_df))"
      ]
    },
    {
      "cell_type": "code",
      "execution_count": 67,
      "metadata": {
        "colab": {
          "base_uri": "https://localhost:8080/"
        },
        "id": "gySVAlc5qJup",
        "outputId": "4da50e31-2826-4280-d068-96e194bcf880"
      },
      "outputs": [
        {
          "output_type": "execute_result",
          "data": {
            "text/plain": [
              "PassengerId       0\n",
              "HomePlanet      201\n",
              "CryoSleep       217\n",
              "Cabin           199\n",
              "Destination     182\n",
              "Age             179\n",
              "VIP             203\n",
              "RoomService     181\n",
              "FoodCourt       183\n",
              "ShoppingMall    208\n",
              "Spa             183\n",
              "VRDeck          188\n",
              "Name            200\n",
              "Transported       0\n",
              "dtype: int64"
            ]
          },
          "metadata": {},
          "execution_count": 67
        }
      ],
      "source": [
        "train_data_df.isna().sum()"
      ]
    },
    {
      "cell_type": "code",
      "execution_count": 68,
      "metadata": {
        "colab": {
          "base_uri": "https://localhost:8080/"
        },
        "id": "vthmW0o5wYk2",
        "outputId": "e0241bd0-8a77-40d9-b5db-d56a699199ea"
      },
      "outputs": [
        {
          "output_type": "stream",
          "name": "stdout",
          "text": [
            "PassengerId      object\n",
            "HomePlanet       object\n",
            "CryoSleep          bool\n",
            "Cabin            object\n",
            "Destination      object\n",
            "Age             float64\n",
            "VIP                bool\n",
            "RoomService     float64\n",
            "FoodCourt       float64\n",
            "ShoppingMall    float64\n",
            "Spa             float64\n",
            "VRDeck          float64\n",
            "Name             object\n",
            "Transported        bool\n",
            "dtype: object\n"
          ]
        }
      ],
      "source": [
        "print(train_data_df_filled_na.dtypes)"
      ]
    },
    {
      "cell_type": "code",
      "execution_count": 69,
      "metadata": {
        "id": "R3ffg11ojc4b"
      },
      "outputs": [],
      "source": [
        "len(train_data_df_filled_na)\n",
        "\n",
        "X = train_data_df_filled_na.loc[:, train_data_df.columns != 'Transported']\n",
        "y = train_data_df_filled_na['Transported']\n"
      ]
    },
    {
      "cell_type": "code",
      "execution_count": 70,
      "metadata": {
        "colab": {
          "base_uri": "https://localhost:8080/"
        },
        "id": "3fgjZGWE_Z27",
        "outputId": "08affb8a-99e7-4a05-a5b5-a6dea81db360"
      },
      "outputs": [
        {
          "output_type": "stream",
          "name": "stdout",
          "text": [
            "      PassengerId  HomePlanet  CryoSleep  Cabin  Destination   Age    VIP  \\\n",
            "0               0           1      False    149            2  39.0  False   \n",
            "1               1           0      False   2184            2  24.0  False   \n",
            "2               2           1      False      1            2  58.0   True   \n",
            "3               3           1      False      1            2  33.0  False   \n",
            "4               4           0      False   2186            2  16.0  False   \n",
            "...           ...         ...        ...    ...          ...   ...    ...   \n",
            "8688         8688           1      False    146            0  41.0   True   \n",
            "8689         8689           0       True   5280            1  18.0  False   \n",
            "8690         8690           0      False   5285            2  26.0  False   \n",
            "8691         8691           1      False   2131            0  32.0  False   \n",
            "8692         8692           1      False   2131            2  44.0  False   \n",
            "\n",
            "      RoomService  FoodCourt  ShoppingMall     Spa  VRDeck  Name  \n",
            "0             0.0        0.0           0.0     0.0     0.0  5252  \n",
            "1           109.0        9.0          25.0   549.0    44.0  4502  \n",
            "2            43.0     3576.0           0.0  6715.0    49.0   457  \n",
            "3             0.0     1283.0         371.0  3329.0   193.0  7149  \n",
            "4           303.0       70.0         151.0   565.0     2.0  8319  \n",
            "...           ...        ...           ...     ...     ...   ...  \n",
            "8688          0.0     6819.0           0.0  1643.0    74.0  3524  \n",
            "8689          0.0        0.0           0.0     0.0     0.0  4780  \n",
            "8690          0.0        0.0        1872.0     1.0     0.0  3002  \n",
            "8691          0.0     1049.0           0.0   353.0  3235.0  1596  \n",
            "8692        126.0     4688.0           0.0     0.0    12.0  6380  \n",
            "\n",
            "[8693 rows x 13 columns]\n"
          ]
        },
        {
          "output_type": "stream",
          "name": "stderr",
          "text": [
            "<ipython-input-70-0c7824e23c65>:5: SettingWithCopyWarning: \n",
            "A value is trying to be set on a copy of a slice from a DataFrame.\n",
            "Try using .loc[row_indexer,col_indexer] = value instead\n",
            "\n",
            "See the caveats in the documentation: https://pandas.pydata.org/pandas-docs/stable/user_guide/indexing.html#returning-a-view-versus-a-copy\n",
            "  X['PassengerId'] = label_encoder.fit_transform(X['PassengerId'])\n",
            "<ipython-input-70-0c7824e23c65>:6: SettingWithCopyWarning: \n",
            "A value is trying to be set on a copy of a slice from a DataFrame.\n",
            "Try using .loc[row_indexer,col_indexer] = value instead\n",
            "\n",
            "See the caveats in the documentation: https://pandas.pydata.org/pandas-docs/stable/user_guide/indexing.html#returning-a-view-versus-a-copy\n",
            "  X[\"HomePlanet\"] = label_encoder.fit_transform(X[\"HomePlanet\"])\n",
            "<ipython-input-70-0c7824e23c65>:7: SettingWithCopyWarning: \n",
            "A value is trying to be set on a copy of a slice from a DataFrame.\n",
            "Try using .loc[row_indexer,col_indexer] = value instead\n",
            "\n",
            "See the caveats in the documentation: https://pandas.pydata.org/pandas-docs/stable/user_guide/indexing.html#returning-a-view-versus-a-copy\n",
            "  X['Destination'] = label_encoder.fit_transform(X['Destination'])\n",
            "<ipython-input-70-0c7824e23c65>:8: SettingWithCopyWarning: \n",
            "A value is trying to be set on a copy of a slice from a DataFrame.\n",
            "Try using .loc[row_indexer,col_indexer] = value instead\n",
            "\n",
            "See the caveats in the documentation: https://pandas.pydata.org/pandas-docs/stable/user_guide/indexing.html#returning-a-view-versus-a-copy\n",
            "  X['Cabin'] = label_encoder.fit_transform(X['Cabin'])\n",
            "<ipython-input-70-0c7824e23c65>:9: SettingWithCopyWarning: \n",
            "A value is trying to be set on a copy of a slice from a DataFrame.\n",
            "Try using .loc[row_indexer,col_indexer] = value instead\n",
            "\n",
            "See the caveats in the documentation: https://pandas.pydata.org/pandas-docs/stable/user_guide/indexing.html#returning-a-view-versus-a-copy\n",
            "  X['Name'] = label_encoder.fit_transform(X['Name'])\n"
          ]
        }
      ],
      "source": [
        "# Encoding\n",
        "from sklearn.preprocessing import LabelEncoder\n",
        "\n",
        "label_encoder = LabelEncoder()\n",
        "X['PassengerId'] = label_encoder.fit_transform(X['PassengerId'])\n",
        "X[\"HomePlanet\"] = label_encoder.fit_transform(X[\"HomePlanet\"])\n",
        "X['Destination'] = label_encoder.fit_transform(X['Destination'])\n",
        "X['Cabin'] = label_encoder.fit_transform(X['Cabin'])\n",
        "X['Name'] = label_encoder.fit_transform(X['Name'])\n",
        "print(X)"
      ]
    },
    {
      "cell_type": "code",
      "execution_count": 71,
      "metadata": {
        "colab": {
          "base_uri": "https://localhost:8080/"
        },
        "id": "U6CNLqSHFYu6",
        "outputId": "a3fd42f1-b70d-4406-ec77-df5501cadc36"
      },
      "outputs": [
        {
          "output_type": "stream",
          "name": "stdout",
          "text": [
            "PassengerId       int64\n",
            "HomePlanet        int64\n",
            "CryoSleep          bool\n",
            "Cabin             int64\n",
            "Destination       int64\n",
            "Age             float64\n",
            "VIP                bool\n",
            "RoomService     float64\n",
            "FoodCourt       float64\n",
            "ShoppingMall    float64\n",
            "Spa             float64\n",
            "VRDeck          float64\n",
            "Name              int64\n",
            "dtype: object\n"
          ]
        }
      ],
      "source": [
        "print(X.dtypes)"
      ]
    },
    {
      "cell_type": "code",
      "execution_count": 72,
      "metadata": {
        "id": "Enqems_WmGgb"
      },
      "outputs": [],
      "source": [
        "from sklearn.model_selection import train_test_split, GridSearchCV\n",
        "\n",
        "X_train, X_val, y_train, y_val = train_test_split(X, y, test_size=.3)"
      ]
    },
    {
      "cell_type": "code",
      "execution_count": 75,
      "metadata": {
        "colab": {
          "base_uri": "https://localhost:8080/"
        },
        "id": "ODOq5UWSFr2a",
        "outputId": "a906da55-81df-4000-ea14-60f98ab5047d"
      },
      "outputs": [
        {
          "output_type": "stream",
          "name": "stdout",
          "text": [
            "(6085,)\n"
          ]
        }
      ],
      "source": [
        "from sklearn.preprocessing import MinMaxScaler, StandardScaler\n",
        "\n",
        "print(X_train[\"RoomService\"].shape)\n",
        "\n",
        "\n",
        "# Initialize StandardScaler\n",
        "scaler = StandardScaler()\n",
        "\n",
        "# Fit scaler to the entire training dataset\n",
        "scaler.fit(X_train[[\"RoomService\", \"FoodCourt\", \"ShoppingMall\", \"Spa\", \"VRDeck\"]])\n",
        "\n",
        "# Transform the specified columns individually\n",
        "columns_to_transform = [\"RoomService\", \"FoodCourt\", \"ShoppingMall\", \"Spa\", \"VRDeck\"]\n",
        "\n",
        "# Transform both Train and Validation data\n",
        "X_train[columns_to_transform] = scaler.transform(X_train[columns_to_transform])\n",
        "X_val[columns_to_transform] = scaler.transform(X_val[columns_to_transform])\n"
      ]
    },
    {
      "cell_type": "code",
      "execution_count": 18,
      "metadata": {
        "colab": {
          "base_uri": "https://localhost:8080/",
          "height": 75
        },
        "id": "LcGh448uRAv8",
        "outputId": "81170f0a-c01a-45e0-df86-a8b6a60dc540"
      },
      "outputs": [
        {
          "output_type": "execute_result",
          "data": {
            "text/plain": [
              "SVC()"
            ],
            "text/html": [
              "<style>#sk-container-id-2 {color: black;background-color: white;}#sk-container-id-2 pre{padding: 0;}#sk-container-id-2 div.sk-toggleable {background-color: white;}#sk-container-id-2 label.sk-toggleable__label {cursor: pointer;display: block;width: 100%;margin-bottom: 0;padding: 0.3em;box-sizing: border-box;text-align: center;}#sk-container-id-2 label.sk-toggleable__label-arrow:before {content: \"▸\";float: left;margin-right: 0.25em;color: #696969;}#sk-container-id-2 label.sk-toggleable__label-arrow:hover:before {color: black;}#sk-container-id-2 div.sk-estimator:hover label.sk-toggleable__label-arrow:before {color: black;}#sk-container-id-2 div.sk-toggleable__content {max-height: 0;max-width: 0;overflow: hidden;text-align: left;background-color: #f0f8ff;}#sk-container-id-2 div.sk-toggleable__content pre {margin: 0.2em;color: black;border-radius: 0.25em;background-color: #f0f8ff;}#sk-container-id-2 input.sk-toggleable__control:checked~div.sk-toggleable__content {max-height: 200px;max-width: 100%;overflow: auto;}#sk-container-id-2 input.sk-toggleable__control:checked~label.sk-toggleable__label-arrow:before {content: \"▾\";}#sk-container-id-2 div.sk-estimator input.sk-toggleable__control:checked~label.sk-toggleable__label {background-color: #d4ebff;}#sk-container-id-2 div.sk-label input.sk-toggleable__control:checked~label.sk-toggleable__label {background-color: #d4ebff;}#sk-container-id-2 input.sk-hidden--visually {border: 0;clip: rect(1px 1px 1px 1px);clip: rect(1px, 1px, 1px, 1px);height: 1px;margin: -1px;overflow: hidden;padding: 0;position: absolute;width: 1px;}#sk-container-id-2 div.sk-estimator {font-family: monospace;background-color: #f0f8ff;border: 1px dotted black;border-radius: 0.25em;box-sizing: border-box;margin-bottom: 0.5em;}#sk-container-id-2 div.sk-estimator:hover {background-color: #d4ebff;}#sk-container-id-2 div.sk-parallel-item::after {content: \"\";width: 100%;border-bottom: 1px solid gray;flex-grow: 1;}#sk-container-id-2 div.sk-label:hover label.sk-toggleable__label {background-color: #d4ebff;}#sk-container-id-2 div.sk-serial::before {content: \"\";position: absolute;border-left: 1px solid gray;box-sizing: border-box;top: 0;bottom: 0;left: 50%;z-index: 0;}#sk-container-id-2 div.sk-serial {display: flex;flex-direction: column;align-items: center;background-color: white;padding-right: 0.2em;padding-left: 0.2em;position: relative;}#sk-container-id-2 div.sk-item {position: relative;z-index: 1;}#sk-container-id-2 div.sk-parallel {display: flex;align-items: stretch;justify-content: center;background-color: white;position: relative;}#sk-container-id-2 div.sk-item::before, #sk-container-id-2 div.sk-parallel-item::before {content: \"\";position: absolute;border-left: 1px solid gray;box-sizing: border-box;top: 0;bottom: 0;left: 50%;z-index: -1;}#sk-container-id-2 div.sk-parallel-item {display: flex;flex-direction: column;z-index: 1;position: relative;background-color: white;}#sk-container-id-2 div.sk-parallel-item:first-child::after {align-self: flex-end;width: 50%;}#sk-container-id-2 div.sk-parallel-item:last-child::after {align-self: flex-start;width: 50%;}#sk-container-id-2 div.sk-parallel-item:only-child::after {width: 0;}#sk-container-id-2 div.sk-dashed-wrapped {border: 1px dashed gray;margin: 0 0.4em 0.5em 0.4em;box-sizing: border-box;padding-bottom: 0.4em;background-color: white;}#sk-container-id-2 div.sk-label label {font-family: monospace;font-weight: bold;display: inline-block;line-height: 1.2em;}#sk-container-id-2 div.sk-label-container {text-align: center;}#sk-container-id-2 div.sk-container {/* jupyter's `normalize.less` sets `[hidden] { display: none; }` but bootstrap.min.css set `[hidden] { display: none !important; }` so we also need the `!important` here to be able to override the default hidden behavior on the sphinx rendered scikit-learn.org. See: https://github.com/scikit-learn/scikit-learn/issues/21755 */display: inline-block !important;position: relative;}#sk-container-id-2 div.sk-text-repr-fallback {display: none;}</style><div id=\"sk-container-id-2\" class=\"sk-top-container\"><div class=\"sk-text-repr-fallback\"><pre>SVC()</pre><b>In a Jupyter environment, please rerun this cell to show the HTML representation or trust the notebook. <br />On GitHub, the HTML representation is unable to render, please try loading this page with nbviewer.org.</b></div><div class=\"sk-container\" hidden><div class=\"sk-item\"><div class=\"sk-estimator sk-toggleable\"><input class=\"sk-toggleable__control sk-hidden--visually\" id=\"sk-estimator-id-2\" type=\"checkbox\" checked><label for=\"sk-estimator-id-2\" class=\"sk-toggleable__label sk-toggleable__label-arrow\">SVC</label><div class=\"sk-toggleable__content\"><pre>SVC()</pre></div></div></div></div></div>"
            ]
          },
          "metadata": {},
          "execution_count": 18
        }
      ],
      "source": [
        "# Perform PCA\n",
        "\n",
        "from sklearn.decomposition import PCA\n",
        "from sklearn.pipeline import Pipeline\n",
        "from sklearn.linear_model import LogisticRegression\n",
        "from sklearn.svm import SVC\n",
        "\n",
        "pca = PCA()  # initializing the pca\n",
        "pca.set_params(n_components = .99)    # configure the number of components\n",
        "X_train = pca.fit_transform(X_train)\n",
        "X_val = pca.transform(X_val)\n",
        "\n",
        "classifier = SVC()\n",
        "\n",
        "classifier.fit(X_train, y_train)\n",
        "\n",
        "# Define the parameter grid to search\n",
        "param_grid = {\n",
        "    'C': [0.1, 1, 10],\n",
        "    'kernel': ['linear', 'rbf', 'poly'],\n",
        "    'gamma': ['scale', 'auto']\n",
        "}\n",
        "\n",
        "# Initialize SVC\n",
        "svc = SVC()\n",
        "\n",
        "svc.fit(X_train, y_train)\n",
        "\n",
        "\n",
        "# Initialize GridSearchCV\n",
        "# grid_search = GridSearchCV(estimator=svc, param_grid=param_grid, cv=3)\n",
        "\n",
        "# # Perform grid search on training data\n",
        "# grid_search.fit(X_train[:50], y_train[:50])\n",
        "\n",
        "# # Print best parameters and best score\n",
        "# print(\"Best Parameters:\", grid_search.best_params_)\n",
        "# print(\"Best Score:\", grid_search.best_score_)\n"
      ]
    },
    {
      "cell_type": "code",
      "source": [
        "print(svc.score(X_train, y_train))\n",
        "print(svc.score(X_val, y_val))"
      ],
      "metadata": {
        "colab": {
          "base_uri": "https://localhost:8080/",
          "height": 393
        },
        "id": "W7EdQ3Ahbu6G",
        "outputId": "280c017b-39f3-4f73-fe5f-7b1fb2cd2b4c"
      },
      "execution_count": 76,
      "outputs": [
        {
          "output_type": "stream",
          "name": "stderr",
          "text": [
            "/usr/local/lib/python3.10/dist-packages/sklearn/base.py:432: UserWarning: X has feature names, but SVC was fitted without feature names\n",
            "  warnings.warn(\n"
          ]
        },
        {
          "output_type": "error",
          "ename": "ValueError",
          "evalue": "X has 13 features, but SVC is expecting 3 features as input.",
          "traceback": [
            "\u001b[0;31m---------------------------------------------------------------------------\u001b[0m",
            "\u001b[0;31mValueError\u001b[0m                                Traceback (most recent call last)",
            "\u001b[0;32m<ipython-input-76-7a6018aaeb4a>\u001b[0m in \u001b[0;36m<cell line: 1>\u001b[0;34m()\u001b[0m\n\u001b[0;32m----> 1\u001b[0;31m \u001b[0mprint\u001b[0m\u001b[0;34m(\u001b[0m\u001b[0msvc\u001b[0m\u001b[0;34m.\u001b[0m\u001b[0mscore\u001b[0m\u001b[0;34m(\u001b[0m\u001b[0mX_train\u001b[0m\u001b[0;34m,\u001b[0m \u001b[0my_train\u001b[0m\u001b[0;34m)\u001b[0m\u001b[0;34m)\u001b[0m\u001b[0;34m\u001b[0m\u001b[0;34m\u001b[0m\u001b[0m\n\u001b[0m\u001b[1;32m      2\u001b[0m \u001b[0mprint\u001b[0m\u001b[0;34m(\u001b[0m\u001b[0msvc\u001b[0m\u001b[0;34m.\u001b[0m\u001b[0mscore\u001b[0m\u001b[0;34m(\u001b[0m\u001b[0mX_val\u001b[0m\u001b[0;34m,\u001b[0m \u001b[0my_val\u001b[0m\u001b[0;34m)\u001b[0m\u001b[0;34m)\u001b[0m\u001b[0;34m\u001b[0m\u001b[0;34m\u001b[0m\u001b[0m\n",
            "\u001b[0;32m/usr/local/lib/python3.10/dist-packages/sklearn/base.py\u001b[0m in \u001b[0;36mscore\u001b[0;34m(self, X, y, sample_weight)\u001b[0m\n\u001b[1;32m    666\u001b[0m         \u001b[0;32mfrom\u001b[0m \u001b[0;34m.\u001b[0m\u001b[0mmetrics\u001b[0m \u001b[0;32mimport\u001b[0m \u001b[0maccuracy_score\u001b[0m\u001b[0;34m\u001b[0m\u001b[0;34m\u001b[0m\u001b[0m\n\u001b[1;32m    667\u001b[0m \u001b[0;34m\u001b[0m\u001b[0m\n\u001b[0;32m--> 668\u001b[0;31m         \u001b[0;32mreturn\u001b[0m \u001b[0maccuracy_score\u001b[0m\u001b[0;34m(\u001b[0m\u001b[0my\u001b[0m\u001b[0;34m,\u001b[0m \u001b[0mself\u001b[0m\u001b[0;34m.\u001b[0m\u001b[0mpredict\u001b[0m\u001b[0;34m(\u001b[0m\u001b[0mX\u001b[0m\u001b[0;34m)\u001b[0m\u001b[0;34m,\u001b[0m \u001b[0msample_weight\u001b[0m\u001b[0;34m=\u001b[0m\u001b[0msample_weight\u001b[0m\u001b[0;34m)\u001b[0m\u001b[0;34m\u001b[0m\u001b[0;34m\u001b[0m\u001b[0m\n\u001b[0m\u001b[1;32m    669\u001b[0m \u001b[0;34m\u001b[0m\u001b[0m\n\u001b[1;32m    670\u001b[0m     \u001b[0;32mdef\u001b[0m \u001b[0m_more_tags\u001b[0m\u001b[0;34m(\u001b[0m\u001b[0mself\u001b[0m\u001b[0;34m)\u001b[0m\u001b[0;34m:\u001b[0m\u001b[0;34m\u001b[0m\u001b[0;34m\u001b[0m\u001b[0m\n",
            "\u001b[0;32m/usr/local/lib/python3.10/dist-packages/sklearn/svm/_base.py\u001b[0m in \u001b[0;36mpredict\u001b[0;34m(self, X)\u001b[0m\n\u001b[1;32m    818\u001b[0m             \u001b[0my\u001b[0m \u001b[0;34m=\u001b[0m \u001b[0mnp\u001b[0m\u001b[0;34m.\u001b[0m\u001b[0margmax\u001b[0m\u001b[0;34m(\u001b[0m\u001b[0mself\u001b[0m\u001b[0;34m.\u001b[0m\u001b[0mdecision_function\u001b[0m\u001b[0;34m(\u001b[0m\u001b[0mX\u001b[0m\u001b[0;34m)\u001b[0m\u001b[0;34m,\u001b[0m \u001b[0maxis\u001b[0m\u001b[0;34m=\u001b[0m\u001b[0;36m1\u001b[0m\u001b[0;34m)\u001b[0m\u001b[0;34m\u001b[0m\u001b[0;34m\u001b[0m\u001b[0m\n\u001b[1;32m    819\u001b[0m         \u001b[0;32melse\u001b[0m\u001b[0;34m:\u001b[0m\u001b[0;34m\u001b[0m\u001b[0;34m\u001b[0m\u001b[0m\n\u001b[0;32m--> 820\u001b[0;31m             \u001b[0my\u001b[0m \u001b[0;34m=\u001b[0m \u001b[0msuper\u001b[0m\u001b[0;34m(\u001b[0m\u001b[0;34m)\u001b[0m\u001b[0;34m.\u001b[0m\u001b[0mpredict\u001b[0m\u001b[0;34m(\u001b[0m\u001b[0mX\u001b[0m\u001b[0;34m)\u001b[0m\u001b[0;34m\u001b[0m\u001b[0;34m\u001b[0m\u001b[0m\n\u001b[0m\u001b[1;32m    821\u001b[0m         \u001b[0;32mreturn\u001b[0m \u001b[0mself\u001b[0m\u001b[0;34m.\u001b[0m\u001b[0mclasses_\u001b[0m\u001b[0;34m.\u001b[0m\u001b[0mtake\u001b[0m\u001b[0;34m(\u001b[0m\u001b[0mnp\u001b[0m\u001b[0;34m.\u001b[0m\u001b[0masarray\u001b[0m\u001b[0;34m(\u001b[0m\u001b[0my\u001b[0m\u001b[0;34m,\u001b[0m \u001b[0mdtype\u001b[0m\u001b[0;34m=\u001b[0m\u001b[0mnp\u001b[0m\u001b[0;34m.\u001b[0m\u001b[0mintp\u001b[0m\u001b[0;34m)\u001b[0m\u001b[0;34m)\u001b[0m\u001b[0;34m\u001b[0m\u001b[0;34m\u001b[0m\u001b[0m\n\u001b[1;32m    822\u001b[0m \u001b[0;34m\u001b[0m\u001b[0m\n",
            "\u001b[0;32m/usr/local/lib/python3.10/dist-packages/sklearn/svm/_base.py\u001b[0m in \u001b[0;36mpredict\u001b[0;34m(self, X)\u001b[0m\n\u001b[1;32m    431\u001b[0m             \u001b[0mThe\u001b[0m \u001b[0mpredicted\u001b[0m \u001b[0mvalues\u001b[0m\u001b[0;34m.\u001b[0m\u001b[0;34m\u001b[0m\u001b[0;34m\u001b[0m\u001b[0m\n\u001b[1;32m    432\u001b[0m         \"\"\"\n\u001b[0;32m--> 433\u001b[0;31m         \u001b[0mX\u001b[0m \u001b[0;34m=\u001b[0m \u001b[0mself\u001b[0m\u001b[0;34m.\u001b[0m\u001b[0m_validate_for_predict\u001b[0m\u001b[0;34m(\u001b[0m\u001b[0mX\u001b[0m\u001b[0;34m)\u001b[0m\u001b[0;34m\u001b[0m\u001b[0;34m\u001b[0m\u001b[0m\n\u001b[0m\u001b[1;32m    434\u001b[0m         \u001b[0mpredict\u001b[0m \u001b[0;34m=\u001b[0m \u001b[0mself\u001b[0m\u001b[0;34m.\u001b[0m\u001b[0m_sparse_predict\u001b[0m \u001b[0;32mif\u001b[0m \u001b[0mself\u001b[0m\u001b[0;34m.\u001b[0m\u001b[0m_sparse\u001b[0m \u001b[0;32melse\u001b[0m \u001b[0mself\u001b[0m\u001b[0;34m.\u001b[0m\u001b[0m_dense_predict\u001b[0m\u001b[0;34m\u001b[0m\u001b[0;34m\u001b[0m\u001b[0m\n\u001b[1;32m    435\u001b[0m         \u001b[0;32mreturn\u001b[0m \u001b[0mpredict\u001b[0m\u001b[0;34m(\u001b[0m\u001b[0mX\u001b[0m\u001b[0;34m)\u001b[0m\u001b[0;34m\u001b[0m\u001b[0;34m\u001b[0m\u001b[0m\n",
            "\u001b[0;32m/usr/local/lib/python3.10/dist-packages/sklearn/svm/_base.py\u001b[0m in \u001b[0;36m_validate_for_predict\u001b[0;34m(self, X)\u001b[0m\n\u001b[1;32m    611\u001b[0m \u001b[0;34m\u001b[0m\u001b[0m\n\u001b[1;32m    612\u001b[0m         \u001b[0;32mif\u001b[0m \u001b[0;32mnot\u001b[0m \u001b[0mcallable\u001b[0m\u001b[0;34m(\u001b[0m\u001b[0mself\u001b[0m\u001b[0;34m.\u001b[0m\u001b[0mkernel\u001b[0m\u001b[0;34m)\u001b[0m\u001b[0;34m:\u001b[0m\u001b[0;34m\u001b[0m\u001b[0;34m\u001b[0m\u001b[0m\n\u001b[0;32m--> 613\u001b[0;31m             X = self._validate_data(\n\u001b[0m\u001b[1;32m    614\u001b[0m                 \u001b[0mX\u001b[0m\u001b[0;34m,\u001b[0m\u001b[0;34m\u001b[0m\u001b[0;34m\u001b[0m\u001b[0m\n\u001b[1;32m    615\u001b[0m                 \u001b[0maccept_sparse\u001b[0m\u001b[0;34m=\u001b[0m\u001b[0;34m\"csr\"\u001b[0m\u001b[0;34m,\u001b[0m\u001b[0;34m\u001b[0m\u001b[0;34m\u001b[0m\u001b[0m\n",
            "\u001b[0;32m/usr/local/lib/python3.10/dist-packages/sklearn/base.py\u001b[0m in \u001b[0;36m_validate_data\u001b[0;34m(self, X, y, reset, validate_separately, **check_params)\u001b[0m\n\u001b[1;32m    586\u001b[0m \u001b[0;34m\u001b[0m\u001b[0m\n\u001b[1;32m    587\u001b[0m         \u001b[0;32mif\u001b[0m \u001b[0;32mnot\u001b[0m \u001b[0mno_val_X\u001b[0m \u001b[0;32mand\u001b[0m \u001b[0mcheck_params\u001b[0m\u001b[0;34m.\u001b[0m\u001b[0mget\u001b[0m\u001b[0;34m(\u001b[0m\u001b[0;34m\"ensure_2d\"\u001b[0m\u001b[0;34m,\u001b[0m \u001b[0;32mTrue\u001b[0m\u001b[0;34m)\u001b[0m\u001b[0;34m:\u001b[0m\u001b[0;34m\u001b[0m\u001b[0;34m\u001b[0m\u001b[0m\n\u001b[0;32m--> 588\u001b[0;31m             \u001b[0mself\u001b[0m\u001b[0;34m.\u001b[0m\u001b[0m_check_n_features\u001b[0m\u001b[0;34m(\u001b[0m\u001b[0mX\u001b[0m\u001b[0;34m,\u001b[0m \u001b[0mreset\u001b[0m\u001b[0;34m=\u001b[0m\u001b[0mreset\u001b[0m\u001b[0;34m)\u001b[0m\u001b[0;34m\u001b[0m\u001b[0;34m\u001b[0m\u001b[0m\n\u001b[0m\u001b[1;32m    589\u001b[0m \u001b[0;34m\u001b[0m\u001b[0m\n\u001b[1;32m    590\u001b[0m         \u001b[0;32mreturn\u001b[0m \u001b[0mout\u001b[0m\u001b[0;34m\u001b[0m\u001b[0;34m\u001b[0m\u001b[0m\n",
            "\u001b[0;32m/usr/local/lib/python3.10/dist-packages/sklearn/base.py\u001b[0m in \u001b[0;36m_check_n_features\u001b[0;34m(self, X, reset)\u001b[0m\n\u001b[1;32m    387\u001b[0m \u001b[0;34m\u001b[0m\u001b[0m\n\u001b[1;32m    388\u001b[0m         \u001b[0;32mif\u001b[0m \u001b[0mn_features\u001b[0m \u001b[0;34m!=\u001b[0m \u001b[0mself\u001b[0m\u001b[0;34m.\u001b[0m\u001b[0mn_features_in_\u001b[0m\u001b[0;34m:\u001b[0m\u001b[0;34m\u001b[0m\u001b[0;34m\u001b[0m\u001b[0m\n\u001b[0;32m--> 389\u001b[0;31m             raise ValueError(\n\u001b[0m\u001b[1;32m    390\u001b[0m                 \u001b[0;34mf\"X has {n_features} features, but {self.__class__.__name__} \"\u001b[0m\u001b[0;34m\u001b[0m\u001b[0;34m\u001b[0m\u001b[0m\n\u001b[1;32m    391\u001b[0m                 \u001b[0;34mf\"is expecting {self.n_features_in_} features as input.\"\u001b[0m\u001b[0;34m\u001b[0m\u001b[0;34m\u001b[0m\u001b[0m\n",
            "\u001b[0;31mValueError\u001b[0m: X has 13 features, but SVC is expecting 3 features as input."
          ]
        }
      ]
    },
    {
      "cell_type": "code",
      "execution_count": 20,
      "metadata": {
        "id": "OoapzNmIKlVG",
        "colab": {
          "base_uri": "https://localhost:8080/"
        },
        "outputId": "4d485a2e-1f0d-4bf5-eed8-a6d9a953adbf"
      },
      "outputs": [
        {
          "output_type": "stream",
          "name": "stdout",
          "text": [
            "0.6019720624486442\n",
            "0.588957055214724\n"
          ]
        }
      ],
      "source": [
        "print(classifier.score(X_train, y_train))\n",
        "print(classifier.score(X_val, y_val))"
      ]
    },
    {
      "cell_type": "code",
      "source": [
        "model = LogisticRegression(random_state=42)\n",
        "\n",
        "model.fit(X_train, y_train)\n",
        "\n",
        "prediction = model.predict(X_val)\n",
        "\n",
        "correct_pred = (prediction == y_val).sum()\n",
        "total_pred = len(y_val)\n",
        "\n",
        "acc = correct_pred/total_pred\n",
        "print(\"Accuracy:\", acc)"
      ],
      "metadata": {
        "colab": {
          "base_uri": "https://localhost:8080/"
        },
        "id": "36XKWm1Ph1_O",
        "outputId": "ba8c907e-18f0-4fcf-b9e7-c66e0acf670a"
      },
      "execution_count": 77,
      "outputs": [
        {
          "output_type": "stream",
          "name": "stdout",
          "text": [
            "Accuracy: 0.785659509202454\n"
          ]
        }
      ]
    },
    {
      "cell_type": "code",
      "source": [
        "from sklearn.tree import DecisionTreeClassifier\n",
        "from sklearn import metrics\n",
        "import matplotlib.pyplot as plt\n",
        "\n",
        "acc = []\n",
        "depth = [i for i in range(1, 21)]\n",
        "\n",
        "for d in depth:\n",
        "    model = DecisionTreeClassifier(random_state = 42, max_depth=d)\n",
        "    model.fit(X_train, y_train)\n",
        "    prediction = model.predict(X_val)\n",
        "    correct_pred = (prediction == y_val).sum()\n",
        "    total_pred = len(y_val)\n",
        "\n",
        "    acc.append(correct_pred/total_pred)\n",
        "\n",
        "\n",
        "plt.plot(depth, acc)\n",
        "plt.xlabel(\"Depth\")\n",
        "plt.ylabel(\"accuracy\")\n",
        "plt.title(\"accuracy vs max depth\")\n",
        "plt.show()\n",
        "\n"
      ],
      "metadata": {
        "id": "EE0aX231qvG0",
        "outputId": "4ef93828-7e42-432e-a7b5-d52ea1a9fd9f",
        "colab": {
          "base_uri": "https://localhost:8080/",
          "height": 472
        }
      },
      "execution_count": 78,
      "outputs": [
        {
          "output_type": "display_data",
          "data": {
            "text/plain": [
              "<Figure size 640x480 with 1 Axes>"
            ],
            "image/png": "[encoded data removed]"
          },
          "metadata": {}
        }
      ]
    },
    {
      "cell_type": "code",
      "source": [
        "model = RandomForestClassifier(random_state=42, max_depth=10)\n",
        "model.fit(X_train, y_train)\n",
        "\n",
        "prediction = model.predict(X_val)\n",
        "correct_pred = (prediction == y_val).sum()\n",
        "total_pred = len(y_val)\n",
        "\n",
        "acc = (correct_pred/total_pred)\n",
        "print(\"Accuracy:\", acc)"
      ],
      "metadata": {
        "id": "Hg8R4IvI4mAW"
      },
      "execution_count": null,
      "outputs": []
    },
    {
      "cell_type": "code",
      "source": [
        "from sklearn.ensemble import RandomForestClassifier\n",
        "\n",
        "\n",
        "\n",
        "# randomforest with gridsearch\n",
        "\n",
        "model = RandomForestClassifier(random_state=42)\n",
        "\n",
        "\n",
        "param_grid = {\n",
        "  'max_depth': [5, 10, 15],\n",
        "  'n_estimators': [150, 200, 250, 300],  # Number of trees in the forest\n",
        "  'criterion': ['gini', 'entropy']\n",
        "}\n",
        "\n",
        "# Perform Grid Search Cross Validation\n",
        "grid_search = GridSearchCV(estimator=model, param_grid=param_grid, cv=5)\n",
        "grid_search.fit(X_train, y_train)\n",
        "\n",
        "# Get the best parameters and the corresponding accuracy\n",
        "best_params = grid_search.best_params_\n",
        "best_accuracy = grid_search.best_score_\n",
        "\n",
        "print(\"Best Parameters:\", best_params)\n",
        "print(\"Best Accuracy:\", best_accuracy)\n",
        "\n",
        "\n"
      ],
      "metadata": {
        "id": "x25v1gqwuuRl",
        "outputId": "d1f4b0b0-50a2-472d-b5cc-3334f7a018a4",
        "colab": {
          "base_uri": "https://localhost:8080/"
        }
      },
      "execution_count": 82,
      "outputs": [
        {
          "output_type": "stream",
          "name": "stdout",
          "text": [
            "Accuracy: 0.7967791411042945\n",
            "Best Parameters: {'criterion': 'entropy', 'max_depth': 10, 'n_estimators': 250}\n",
            "Best Accuracy: 0.7927691043549713\n"
          ]
        }
      ]
    },
    {
      "cell_type": "code",
      "source": [
        "from sklearn.ensemble import GradientBoostingClassifier\n",
        "\n",
        "\n",
        "model = GradientBoostingClassifier(max_depth=5, random_state=42)\n",
        "model.fit(X_train, y_train)\n",
        "\n",
        "print(model.score(X_val, y_val))\n",
        "\n",
        "importances = model.feature_importances_\n",
        "\n",
        "feature_names = train_data_df.columns.tolist()\n",
        "\n",
        "importance_feature_pairs = zip(importances, feature_names)\n",
        "\n",
        "# Sort the pairs based on importance values in ascending order\n",
        "sorted_pairs = sorted(importance_feature_pairs)\n",
        "\n",
        "# Print the sorted feature importances\n",
        "for importance, feature_name in sorted_pairs:\n",
        "    print(f\"{feature_name}: importance = {importance}\")"
      ],
      "metadata": {
        "id": "FHkRq3cvz7y5",
        "outputId": "8fb8fba0-07d5-4c52-b3f4-d43cff8f1839",
        "colab": {
          "base_uri": "https://localhost:8080/"
        }
      },
      "execution_count": 84,
      "outputs": [
        {
          "output_type": "stream",
          "name": "stdout",
          "text": [
            "0.8075153374233128\n",
            "PassengerId: importance = 0.042208664076602995\n",
            "HomePlanet: importance = 0.06272181876718765\n",
            "CryoSleep: importance = 0.3197813315618484\n",
            "Cabin: importance = 0.10051885837736814\n",
            "Destination: importance = 0.0051246224742060795\n",
            "Age: importance = 0.04085931194262216\n",
            "VIP: importance = 0.0005361692648532906\n",
            "RoomService: importance = 0.076983312600635\n",
            "FoodCourt: importance = 0.08447923727380793\n",
            "ShoppingMall: importance = 0.045385950673117\n",
            "Spa: importance = 0.09736715664633651\n",
            "VRDeck: importance = 0.0928491430586872\n",
            "Name: importance = 0.031184423282727858\n",
            "\n",
            "\n",
            "\n",
            "VIP: importance = 0.0005361692648532906\n",
            "Destination: importance = 0.0051246224742060795\n",
            "Name: importance = 0.031184423282727858\n",
            "Age: importance = 0.04085931194262216\n",
            "PassengerId: importance = 0.042208664076602995\n",
            "ShoppingMall: importance = 0.045385950673117\n",
            "HomePlanet: importance = 0.06272181876718765\n",
            "RoomService: importance = 0.076983312600635\n",
            "FoodCourt: importance = 0.08447923727380793\n",
            "VRDeck: importance = 0.0928491430586872\n",
            "Spa: importance = 0.09736715664633651\n",
            "Cabin: importance = 0.10051885837736814\n",
            "CryoSleep: importance = 0.3197813315618484\n"
          ]
        }
      ]
    }
  ],
  "metadata": {
    "colab": {
      "provenance": [],
      "include_colab_link": true
    },
    "kernelspec": {
      "display_name": "Python 3",
      "name": "python3"
    },
    "language_info": {
      "name": "python"
    }
  },
  "nbformat": 4,
  "nbformat_minor": 0
}